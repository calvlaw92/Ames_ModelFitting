{
 "cells": [
  {
   "cell_type": "code",
   "execution_count": 170,
   "metadata": {},
   "outputs": [],
   "source": [
    "import pandas as pd\n",
    "import numpy as np\n",
    "import matplotlib.pyplot as plt\n",
    "%matplotlib inline"
   ]
  },
  {
   "cell_type": "code",
   "execution_count": 83,
   "metadata": {},
   "outputs": [],
   "source": [
    "from sklearn.pipeline import Pipeline\n",
    "from sklearn.ensemble import RandomForestRegressor, GradientBoostingRegressor\n",
    "from sklearn.preprocessing import StandardScaler, MinMaxScaler\n",
    "from sklearn.linear_model import Lasso, Ridge\n",
    "from sklearn.model_selection import train_test_split\n",
    "from sklearn.pipeline import make_pipeline\n",
    "from sklearn.metrics import r2_score\n",
    "from sklearn.neighbors import KNeighborsRegressor\n",
    "from sklearn.tree import DecisionTreeRegressor\n",
    "from sklearn.svm import SVR\n",
    "from sklearn.model_selection import GridSearchCV, ShuffleSplit\n",
    "from sklearn.linear_model import ElasticNet"
   ]
  },
  {
   "cell_type": "code",
   "execution_count": 102,
   "metadata": {},
   "outputs": [],
   "source": [
    "matrix_df = pd.read_csv(\"../Data/matrix.csv\")\n",
    "target_df = pd.read_csv(\"../Data/target.csv\", header=None)\n",
    "test_2 = pd.read_csv(\"../Data/test_2.csv\")\n",
    "final_train = pd.read_csv(\"../Data/final_train.csv\")"
   ]
  },
  {
   "cell_type": "code",
   "execution_count": 103,
   "metadata": {},
   "outputs": [
    {
     "data": {
      "text/plain": [
       "(1431, 74)"
      ]
     },
     "execution_count": 103,
     "metadata": {},
     "output_type": "execute_result"
    }
   ],
   "source": [
    "test_2.shape"
   ]
  },
  {
   "cell_type": "code",
   "execution_count": 6,
   "metadata": {},
   "outputs": [],
   "source": [
    "num_cols = ['LotArea','YearBuilt','YearRemodAdd','MasVnrArea','BsmtFinSF1','BsmtFinSF2','BsmtUnfSF','TotalBsmtSF','1stFlrSF','2ndFlrSF','LowQualFinSF','GrLivArea','GarageYrBlt','GarageArea','WoodDeckSF','OpenPorchSF','EnclosedPorch','3SsnPorch','ScreenPorch','PoolArea','MiscVal','YrSold']\n",
    "cat_cols = [i for i in matrix_df.columns if i not in num_cols]"
   ]
  },
  {
   "cell_type": "code",
   "execution_count": 105,
   "metadata": {},
   "outputs": [],
   "source": [
    "features_dummies = pd.get_dummies(matrix_df, columns=cat_cols, drop_first=True)\n",
    "features_dummies_test = pd.get_dummies(test_2, columns=cat_cols, drop_first=True)"
   ]
  },
  {
   "cell_type": "code",
   "execution_count": 106,
   "metadata": {},
   "outputs": [
    {
     "data": {
      "text/plain": [
       "Index(['LotArea', 'YearBuilt', 'YearRemodAdd', 'MasVnrArea', 'BsmtFinSF1',\n",
       "       'BsmtFinSF2', 'BsmtUnfSF', 'TotalBsmtSF', '1stFlrSF', '2ndFlrSF',\n",
       "       ...\n",
       "       'SaleType_ConLI', 'SaleType_ConLw', 'SaleType_New', 'SaleType_Oth',\n",
       "       'SaleType_WD', 'SaleCondition_AdjLand', 'SaleCondition_Alloca',\n",
       "       'SaleCondition_Family', 'SaleCondition_Normal',\n",
       "       'SaleCondition_Partial'],\n",
       "      dtype='object', length=1750)"
      ]
     },
     "execution_count": 106,
     "metadata": {},
     "output_type": "execute_result"
    }
   ],
   "source": [
    "cols = features_dummies.columns\n",
    "cols"
   ]
  },
  {
   "cell_type": "code",
   "execution_count": 107,
   "metadata": {},
   "outputs": [
    {
     "data": {
      "text/plain": [
       "Index(['LotArea', 'YearBuilt', 'YearRemodAdd', 'MasVnrArea', 'BsmtFinSF1',\n",
       "       'BsmtFinSF2', 'BsmtUnfSF', 'TotalBsmtSF', '1stFlrSF', '2ndFlrSF',\n",
       "       ...\n",
       "       'SaleType_ConLI', 'SaleType_ConLw', 'SaleType_New', 'SaleType_Oth',\n",
       "       'SaleType_WD', 'SaleCondition_AdjLand', 'SaleCondition_Alloca',\n",
       "       'SaleCondition_Family', 'SaleCondition_Normal',\n",
       "       'SaleCondition_Partial'],\n",
       "      dtype='object', length=1721)"
      ]
     },
     "execution_count": 107,
     "metadata": {},
     "output_type": "execute_result"
    }
   ],
   "source": [
    "col1= features_dummies_test.columns\n",
    "col1"
   ]
  },
  {
   "cell_type": "code",
   "execution_count": 108,
   "metadata": {},
   "outputs": [
    {
     "data": {
      "text/plain": [
       "Index(['BedroomAbvGr_8', 'BsmtFullBath_1', 'BsmtFullBath_2', 'BsmtFullBath_3',\n",
       "       'BsmtHalfBath_1', 'BsmtHalfBath_2', 'Condition2_RRAe',\n",
       "       'Condition2_RRAn', 'Condition2_RRNn', 'Electrical_Mix',\n",
       "       'Exterior1st_CBlock', 'Exterior1st_ImStucc', 'Exterior1st_Stone',\n",
       "       'Exterior2nd_Other', 'GarageCars_1', 'GarageCars_2', 'GarageCars_3',\n",
       "       'GarageCars_4', 'GarageQual_Fa', 'Heating_GasA', 'Heating_OthW',\n",
       "       'HouseStyle_2.5Fin', 'KitchenAbvGr_3', 'OverallQual_2',\n",
       "       'RoofMatl_Membran', 'RoofMatl_Metal', 'RoofMatl_Roll',\n",
       "       'TotRmsAbvGrd_14', 'Unnamed: 0_1013', 'Unnamed: 0_1029',\n",
       "       'Unnamed: 0_1116', 'Unnamed: 0_1132', 'Unnamed: 0_1150',\n",
       "       'Unnamed: 0_1197', 'Unnamed: 0_1226', 'Unnamed: 0_1402',\n",
       "       'Unnamed: 0_1444', 'Unnamed: 0_1459', 'Unnamed: 0_231',\n",
       "       'Unnamed: 0_246', 'Unnamed: 0_422', 'Unnamed: 0_455', 'Unnamed: 0_485',\n",
       "       'Unnamed: 0_532', 'Unnamed: 0_544', 'Unnamed: 0_581', 'Unnamed: 0_660',\n",
       "       'Unnamed: 0_691', 'Unnamed: 0_728', 'Unnamed: 0_756', 'Unnamed: 0_790',\n",
       "       'Unnamed: 0_851', 'Unnamed: 0_865', 'Unnamed: 0_880', 'Unnamed: 0_889',\n",
       "       'Unnamed: 0_908', 'Unnamed: 0_95', 'Utilities_NoSeWa'],\n",
       "      dtype='object')"
      ]
     },
     "execution_count": 108,
     "metadata": {},
     "output_type": "execute_result"
    }
   ],
   "source": [
    "cols.difference(col1)"
   ]
  },
  {
   "cell_type": "code",
   "execution_count": 109,
   "metadata": {},
   "outputs": [],
   "source": [
    "missing_cols = set( features_dummies.columns ) - set( features_dummies_test.columns )\n",
    "for c in missing_cols:\n",
    "    features_dummies_test[c] = 0\n",
    "features_dummies_test = features_dummies_test[features_dummies.columns]"
   ]
  },
  {
   "cell_type": "code",
   "execution_count": 110,
   "metadata": {},
   "outputs": [
    {
     "data": {
      "text/plain": [
       "(1431, 1750)"
      ]
     },
     "execution_count": 110,
     "metadata": {},
     "output_type": "execute_result"
    }
   ],
   "source": [
    "features_dummies_test.shape"
   ]
  },
  {
   "cell_type": "code",
   "execution_count": 111,
   "metadata": {},
   "outputs": [
    {
     "data": {
      "text/plain": [
       "(1446, 1750)"
      ]
     },
     "execution_count": 111,
     "metadata": {},
     "output_type": "execute_result"
    }
   ],
   "source": [
    "features_dummies.shape"
   ]
  },
  {
   "cell_type": "code",
   "execution_count": 112,
   "metadata": {},
   "outputs": [
    {
     "data": {
      "text/plain": [
       "(1446, 1)"
      ]
     },
     "execution_count": 112,
     "metadata": {},
     "output_type": "execute_result"
    }
   ],
   "source": [
    "target_df.shape"
   ]
  },
  {
   "cell_type": "code",
   "execution_count": 113,
   "metadata": {},
   "outputs": [],
   "source": [
    "X_train, X_test, y_train, y_test = train_test_split(features_dummies, target_df, random_state = 42)"
   ]
  },
  {
   "cell_type": "markdown",
   "metadata": {},
   "source": [
    "# Ridge Regression"
   ]
  },
  {
   "cell_type": "code",
   "execution_count": 114,
   "metadata": {},
   "outputs": [],
   "source": [
    "ridge_pipe = Pipeline([('scaler',StandardScaler()), ('ridge', Ridge())])"
   ]
  },
  {
   "cell_type": "code",
   "execution_count": 115,
   "metadata": {},
   "outputs": [
    {
     "data": {
      "text/plain": [
       "Pipeline(memory=None,\n",
       "     steps=[('scaler', StandardScaler(copy=True, with_mean=True, with_std=True)), ('ridge', Ridge(alpha=1.0, copy_X=True, fit_intercept=True, max_iter=None,\n",
       "   normalize=False, random_state=None, solver='auto', tol=0.001))])"
      ]
     },
     "execution_count": 115,
     "metadata": {},
     "output_type": "execute_result"
    }
   ],
   "source": [
    "ridge_pipe.fit(X_train, y_train)"
   ]
  },
  {
   "cell_type": "code",
   "execution_count": 116,
   "metadata": {},
   "outputs": [
    {
     "data": {
      "text/plain": [
       "0.99999993102219331"
      ]
     },
     "execution_count": 116,
     "metadata": {},
     "output_type": "execute_result"
    }
   ],
   "source": [
    "ridge_pipe.score(X_train, y_train)"
   ]
  },
  {
   "cell_type": "code",
   "execution_count": 117,
   "metadata": {},
   "outputs": [
    {
     "data": {
      "text/plain": [
       "0.8933039352724137"
      ]
     },
     "execution_count": 117,
     "metadata": {},
     "output_type": "execute_result"
    }
   ],
   "source": [
    "ridge_pipe.score(X_test, y_test)"
   ]
  },
  {
   "cell_type": "markdown",
   "metadata": {},
   "source": [
    "# Lasso Regression"
   ]
  },
  {
   "cell_type": "code",
   "execution_count": 118,
   "metadata": {},
   "outputs": [],
   "source": [
    "Lasso_pipe = Pipeline([('scaler',StandardScaler()), ('lasso', Lasso())])"
   ]
  },
  {
   "cell_type": "code",
   "execution_count": 119,
   "metadata": {},
   "outputs": [
    {
     "name": "stderr",
     "output_type": "stream",
     "text": [
      "/opt/conda/lib/python3.6/site-packages/sklearn/linear_model/coordinate_descent.py:491: ConvergenceWarning: Objective did not converge. You might want to increase the number of iterations. Fitting data with very small alpha may cause precision problems.\n",
      "  ConvergenceWarning)\n"
     ]
    },
    {
     "data": {
      "text/plain": [
       "Pipeline(memory=None,\n",
       "     steps=[('scaler', StandardScaler(copy=True, with_mean=True, with_std=True)), ('lasso', Lasso(alpha=1.0, copy_X=True, fit_intercept=True, max_iter=1000,\n",
       "   normalize=False, positive=False, precompute=False, random_state=None,\n",
       "   selection='cyclic', tol=0.0001, warm_start=False))])"
      ]
     },
     "execution_count": 119,
     "metadata": {},
     "output_type": "execute_result"
    }
   ],
   "source": [
    "Lasso_pipe.fit(X_train, y_train)"
   ]
  },
  {
   "cell_type": "code",
   "execution_count": 120,
   "metadata": {},
   "outputs": [
    {
     "data": {
      "text/plain": [
       "0.99999985621859044"
      ]
     },
     "execution_count": 120,
     "metadata": {},
     "output_type": "execute_result"
    }
   ],
   "source": [
    "Lasso_pipe.score(X_train, y_train)"
   ]
  },
  {
   "cell_type": "code",
   "execution_count": 121,
   "metadata": {},
   "outputs": [
    {
     "data": {
      "text/plain": [
       "0.77909391996262845"
      ]
     },
     "execution_count": 121,
     "metadata": {},
     "output_type": "execute_result"
    }
   ],
   "source": [
    "Lasso_pipe.score(X_test, y_test)"
   ]
  },
  {
   "cell_type": "markdown",
   "metadata": {},
   "source": [
    "Ridge and Lasso are both linear models. The scores give us the R-squared value of the train and validation data using the same parameters with the fit done on the training data."
   ]
  },
  {
   "cell_type": "markdown",
   "metadata": {},
   "source": [
    "# KNN"
   ]
  },
  {
   "cell_type": "code",
   "execution_count": 122,
   "metadata": {},
   "outputs": [],
   "source": [
    "KNN_pipe = Pipeline([('scaler',StandardScaler()), ('knn', KNeighborsRegressor())])"
   ]
  },
  {
   "cell_type": "code",
   "execution_count": 123,
   "metadata": {},
   "outputs": [
    {
     "data": {
      "text/plain": [
       "Pipeline(memory=None,\n",
       "     steps=[('scaler', StandardScaler(copy=True, with_mean=True, with_std=True)), ('knn', KNeighborsRegressor(algorithm='auto', leaf_size=30, metric='minkowski',\n",
       "          metric_params=None, n_jobs=1, n_neighbors=5, p=2,\n",
       "          weights='uniform'))])"
      ]
     },
     "execution_count": 123,
     "metadata": {},
     "output_type": "execute_result"
    }
   ],
   "source": [
    "KNN_pipe.fit(X_train, y_train)"
   ]
  },
  {
   "cell_type": "code",
   "execution_count": 124,
   "metadata": {},
   "outputs": [
    {
     "data": {
      "text/plain": [
       "0.80539099597651309"
      ]
     },
     "execution_count": 124,
     "metadata": {},
     "output_type": "execute_result"
    }
   ],
   "source": [
    "KNN_pipe.score(X_train, y_train)"
   ]
  },
  {
   "cell_type": "code",
   "execution_count": 125,
   "metadata": {},
   "outputs": [
    {
     "data": {
      "text/plain": [
       "0.70806703769834267"
      ]
     },
     "execution_count": 125,
     "metadata": {},
     "output_type": "execute_result"
    }
   ],
   "source": [
    "KNN_pipe.score(X_test, y_test)"
   ]
  },
  {
   "cell_type": "markdown",
   "metadata": {},
   "source": [
    "# Decision Tree"
   ]
  },
  {
   "cell_type": "code",
   "execution_count": 126,
   "metadata": {},
   "outputs": [],
   "source": [
    "Dtree_pipe = Pipeline([('scaler',StandardScaler()), ('dtree', DecisionTreeRegressor())])"
   ]
  },
  {
   "cell_type": "code",
   "execution_count": 127,
   "metadata": {},
   "outputs": [
    {
     "data": {
      "text/plain": [
       "Pipeline(memory=None,\n",
       "     steps=[('scaler', StandardScaler(copy=True, with_mean=True, with_std=True)), ('dtree', DecisionTreeRegressor(criterion='mse', max_depth=None, max_features=None,\n",
       "           max_leaf_nodes=None, min_impurity_decrease=0.0,\n",
       "           min_impurity_split=None, min_samples_leaf=1,\n",
       "           min_samples_split=2, min_weight_fraction_leaf=0.0,\n",
       "           presort=False, random_state=None, splitter='best'))])"
      ]
     },
     "execution_count": 127,
     "metadata": {},
     "output_type": "execute_result"
    }
   ],
   "source": [
    "Dtree_pipe.fit(X_train, y_train)"
   ]
  },
  {
   "cell_type": "code",
   "execution_count": 128,
   "metadata": {},
   "outputs": [
    {
     "data": {
      "text/plain": [
       "1.0"
      ]
     },
     "execution_count": 128,
     "metadata": {},
     "output_type": "execute_result"
    }
   ],
   "source": [
    "Dtree_pipe.score(X_train, y_train)"
   ]
  },
  {
   "cell_type": "code",
   "execution_count": 129,
   "metadata": {},
   "outputs": [
    {
     "data": {
      "text/plain": [
       "0.69177548208423723"
      ]
     },
     "execution_count": 129,
     "metadata": {},
     "output_type": "execute_result"
    }
   ],
   "source": [
    "Dtree_pipe.score(X_test, y_test)"
   ]
  },
  {
   "cell_type": "markdown",
   "metadata": {},
   "source": [
    "# Support Vector Machine (SVM)"
   ]
  },
  {
   "cell_type": "code",
   "execution_count": 130,
   "metadata": {},
   "outputs": [],
   "source": [
    "SVM_pipe = Pipeline([('scaler',StandardScaler()), ('svm', SVR())])"
   ]
  },
  {
   "cell_type": "code",
   "execution_count": 131,
   "metadata": {},
   "outputs": [
    {
     "name": "stderr",
     "output_type": "stream",
     "text": [
      "/opt/conda/lib/python3.6/site-packages/sklearn/utils/validation.py:578: DataConversionWarning: A column-vector y was passed when a 1d array was expected. Please change the shape of y to (n_samples, ), for example using ravel().\n",
      "  y = column_or_1d(y, warn=True)\n"
     ]
    },
    {
     "data": {
      "text/plain": [
       "Pipeline(memory=None,\n",
       "     steps=[('scaler', StandardScaler(copy=True, with_mean=True, with_std=True)), ('svm', SVR(C=1.0, cache_size=200, coef0=0.0, degree=3, epsilon=0.1, gamma='auto',\n",
       "  kernel='rbf', max_iter=-1, shrinking=True, tol=0.001, verbose=False))])"
      ]
     },
     "execution_count": 131,
     "metadata": {},
     "output_type": "execute_result"
    }
   ],
   "source": [
    "SVM_pipe.fit(X_train, y_train)"
   ]
  },
  {
   "cell_type": "code",
   "execution_count": 132,
   "metadata": {},
   "outputs": [
    {
     "data": {
      "text/plain": [
       "-0.053907958724882292"
      ]
     },
     "execution_count": 132,
     "metadata": {},
     "output_type": "execute_result"
    }
   ],
   "source": [
    "SVM_pipe.score(X_train, y_train)"
   ]
  },
  {
   "cell_type": "code",
   "execution_count": 133,
   "metadata": {},
   "outputs": [
    {
     "data": {
      "text/plain": [
       "-0.017992531911048326"
      ]
     },
     "execution_count": 133,
     "metadata": {},
     "output_type": "execute_result"
    }
   ],
   "source": [
    "SVM_pipe.score(X_test, y_test)"
   ]
  },
  {
   "cell_type": "markdown",
   "metadata": {},
   "source": [
    "I am guessing the terrible values obtained by SVM is due to the model being a bad fit to the data. Poor locality."
   ]
  },
  {
   "cell_type": "markdown",
   "metadata": {},
   "source": [
    "# GridSearchCV Ridge"
   ]
  },
  {
   "cell_type": "code",
   "execution_count": 134,
   "metadata": {},
   "outputs": [],
   "source": [
    "pipe_for_gs_ridge = Pipeline([\n",
    "    ('scaler', StandardScaler()),\n",
    "    ('regr', Ridge())\n",
    "])"
   ]
  },
  {
   "cell_type": "code",
   "execution_count": 135,
   "metadata": {},
   "outputs": [],
   "source": [
    "ridge_param_grid = {'regr__alpha': range(300,400)}"
   ]
  },
  {
   "cell_type": "code",
   "execution_count": 136,
   "metadata": {},
   "outputs": [],
   "source": [
    "gspipe_ridge = GridSearchCV(pipe_for_gs_ridge,\n",
    "                      param_grid=ridge_param_grid,\n",
    "                      n_jobs=-1,\n",
    "                      cv=ShuffleSplit(n_splits=5, random_state=42))"
   ]
  },
  {
   "cell_type": "code",
   "execution_count": 137,
   "metadata": {},
   "outputs": [
    {
     "data": {
      "text/plain": [
       "GridSearchCV(cv=ShuffleSplit(n_splits=5, random_state=42, test_size='default',\n",
       "       train_size=None),\n",
       "       error_score='raise',\n",
       "       estimator=Pipeline(memory=None,\n",
       "     steps=[('scaler', StandardScaler(copy=True, with_mean=True, with_std=True)), ('regr', Ridge(alpha=1.0, copy_X=True, fit_intercept=True, max_iter=None,\n",
       "   normalize=False, random_state=None, solver='auto', tol=0.001))]),\n",
       "       fit_params=None, iid=True, n_jobs=-1,\n",
       "       param_grid={'regr__alpha': range(300, 400)},\n",
       "       pre_dispatch='2*n_jobs', refit=True, return_train_score='warn',\n",
       "       scoring=None, verbose=0)"
      ]
     },
     "execution_count": 137,
     "metadata": {},
     "output_type": "execute_result"
    }
   ],
   "source": [
    "gspipe_ridge.fit(X_train, y_train)"
   ]
  },
  {
   "cell_type": "code",
   "execution_count": 138,
   "metadata": {},
   "outputs": [
    {
     "name": "stderr",
     "output_type": "stream",
     "text": [
      "/opt/conda/lib/python3.6/site-packages/sklearn/utils/deprecation.py:122: FutureWarning: You are accessing a training score ('mean_train_score'), which will not be available by default any more in 0.21. If you need training scores, please set return_train_score=True\n",
      "  warnings.warn(*warn_args, **warn_kwargs)\n",
      "/opt/conda/lib/python3.6/site-packages/sklearn/utils/deprecation.py:122: FutureWarning: You are accessing a training score ('split0_train_score'), which will not be available by default any more in 0.21. If you need training scores, please set return_train_score=True\n",
      "  warnings.warn(*warn_args, **warn_kwargs)\n",
      "/opt/conda/lib/python3.6/site-packages/sklearn/utils/deprecation.py:122: FutureWarning: You are accessing a training score ('split1_train_score'), which will not be available by default any more in 0.21. If you need training scores, please set return_train_score=True\n",
      "  warnings.warn(*warn_args, **warn_kwargs)\n",
      "/opt/conda/lib/python3.6/site-packages/sklearn/utils/deprecation.py:122: FutureWarning: You are accessing a training score ('split2_train_score'), which will not be available by default any more in 0.21. If you need training scores, please set return_train_score=True\n",
      "  warnings.warn(*warn_args, **warn_kwargs)\n",
      "/opt/conda/lib/python3.6/site-packages/sklearn/utils/deprecation.py:122: FutureWarning: You are accessing a training score ('split3_train_score'), which will not be available by default any more in 0.21. If you need training scores, please set return_train_score=True\n",
      "  warnings.warn(*warn_args, **warn_kwargs)\n",
      "/opt/conda/lib/python3.6/site-packages/sklearn/utils/deprecation.py:122: FutureWarning: You are accessing a training score ('split4_train_score'), which will not be available by default any more in 0.21. If you need training scores, please set return_train_score=True\n",
      "  warnings.warn(*warn_args, **warn_kwargs)\n",
      "/opt/conda/lib/python3.6/site-packages/sklearn/utils/deprecation.py:122: FutureWarning: You are accessing a training score ('std_train_score'), which will not be available by default any more in 0.21. If you need training scores, please set return_train_score=True\n",
      "  warnings.warn(*warn_args, **warn_kwargs)\n"
     ]
    },
    {
     "data": {
      "text/html": [
       "<div>\n",
       "<table border=\"1\" class=\"dataframe\">\n",
       "  <thead>\n",
       "    <tr style=\"text-align: right;\">\n",
       "      <th></th>\n",
       "      <th>0</th>\n",
       "      <th>1</th>\n",
       "      <th>2</th>\n",
       "      <th>3</th>\n",
       "      <th>4</th>\n",
       "      <th>5</th>\n",
       "      <th>6</th>\n",
       "      <th>7</th>\n",
       "      <th>8</th>\n",
       "      <th>9</th>\n",
       "      <th>...</th>\n",
       "      <th>90</th>\n",
       "      <th>91</th>\n",
       "      <th>92</th>\n",
       "      <th>93</th>\n",
       "      <th>94</th>\n",
       "      <th>95</th>\n",
       "      <th>96</th>\n",
       "      <th>97</th>\n",
       "      <th>98</th>\n",
       "      <th>99</th>\n",
       "    </tr>\n",
       "  </thead>\n",
       "  <tbody>\n",
       "    <tr>\n",
       "      <th>mean_fit_time</th>\n",
       "      <td>0.144119</td>\n",
       "      <td>0.128582</td>\n",
       "      <td>0.127142</td>\n",
       "      <td>0.127725</td>\n",
       "      <td>0.12613</td>\n",
       "      <td>0.126744</td>\n",
       "      <td>0.126864</td>\n",
       "      <td>0.125165</td>\n",
       "      <td>0.125983</td>\n",
       "      <td>0.127972</td>\n",
       "      <td>...</td>\n",
       "      <td>0.127087</td>\n",
       "      <td>0.128085</td>\n",
       "      <td>0.12722</td>\n",
       "      <td>0.125731</td>\n",
       "      <td>0.126084</td>\n",
       "      <td>0.126146</td>\n",
       "      <td>0.126286</td>\n",
       "      <td>0.125944</td>\n",
       "      <td>0.125182</td>\n",
       "      <td>0.125323</td>\n",
       "    </tr>\n",
       "    <tr>\n",
       "      <th>mean_score_time</th>\n",
       "      <td>0.00241613</td>\n",
       "      <td>0.00251827</td>\n",
       "      <td>0.00237141</td>\n",
       "      <td>0.00240045</td>\n",
       "      <td>0.00236521</td>\n",
       "      <td>0.00241642</td>\n",
       "      <td>0.00234451</td>\n",
       "      <td>0.00235543</td>\n",
       "      <td>0.00238509</td>\n",
       "      <td>0.00241013</td>\n",
       "      <td>...</td>\n",
       "      <td>0.00237989</td>\n",
       "      <td>0.00242343</td>\n",
       "      <td>0.00236845</td>\n",
       "      <td>0.00237088</td>\n",
       "      <td>0.00233235</td>\n",
       "      <td>0.0023437</td>\n",
       "      <td>0.00237718</td>\n",
       "      <td>0.00233259</td>\n",
       "      <td>0.00237589</td>\n",
       "      <td>0.00232482</td>\n",
       "    </tr>\n",
       "    <tr>\n",
       "      <th>mean_test_score</th>\n",
       "      <td>0.881658</td>\n",
       "      <td>0.881629</td>\n",
       "      <td>0.881601</td>\n",
       "      <td>0.881572</td>\n",
       "      <td>0.881544</td>\n",
       "      <td>0.881515</td>\n",
       "      <td>0.881486</td>\n",
       "      <td>0.881458</td>\n",
       "      <td>0.881429</td>\n",
       "      <td>0.8814</td>\n",
       "      <td>...</td>\n",
       "      <td>0.879069</td>\n",
       "      <td>0.87904</td>\n",
       "      <td>0.879011</td>\n",
       "      <td>0.878983</td>\n",
       "      <td>0.878954</td>\n",
       "      <td>0.878925</td>\n",
       "      <td>0.878896</td>\n",
       "      <td>0.878867</td>\n",
       "      <td>0.878838</td>\n",
       "      <td>0.878809</td>\n",
       "    </tr>\n",
       "    <tr>\n",
       "      <th>mean_train_score</th>\n",
       "      <td>0.994968</td>\n",
       "      <td>0.99494</td>\n",
       "      <td>0.994913</td>\n",
       "      <td>0.994885</td>\n",
       "      <td>0.994857</td>\n",
       "      <td>0.994829</td>\n",
       "      <td>0.994802</td>\n",
       "      <td>0.994774</td>\n",
       "      <td>0.994746</td>\n",
       "      <td>0.994718</td>\n",
       "      <td>...</td>\n",
       "      <td>0.992327</td>\n",
       "      <td>0.992296</td>\n",
       "      <td>0.992265</td>\n",
       "      <td>0.992234</td>\n",
       "      <td>0.992203</td>\n",
       "      <td>0.992172</td>\n",
       "      <td>0.992141</td>\n",
       "      <td>0.99211</td>\n",
       "      <td>0.992079</td>\n",
       "      <td>0.992048</td>\n",
       "    </tr>\n",
       "    <tr>\n",
       "      <th>param_regr__alpha</th>\n",
       "      <td>300</td>\n",
       "      <td>301</td>\n",
       "      <td>302</td>\n",
       "      <td>303</td>\n",
       "      <td>304</td>\n",
       "      <td>305</td>\n",
       "      <td>306</td>\n",
       "      <td>307</td>\n",
       "      <td>308</td>\n",
       "      <td>309</td>\n",
       "      <td>...</td>\n",
       "      <td>390</td>\n",
       "      <td>391</td>\n",
       "      <td>392</td>\n",
       "      <td>393</td>\n",
       "      <td>394</td>\n",
       "      <td>395</td>\n",
       "      <td>396</td>\n",
       "      <td>397</td>\n",
       "      <td>398</td>\n",
       "      <td>399</td>\n",
       "    </tr>\n",
       "    <tr>\n",
       "      <th>params</th>\n",
       "      <td>{'regr__alpha': 300}</td>\n",
       "      <td>{'regr__alpha': 301}</td>\n",
       "      <td>{'regr__alpha': 302}</td>\n",
       "      <td>{'regr__alpha': 303}</td>\n",
       "      <td>{'regr__alpha': 304}</td>\n",
       "      <td>{'regr__alpha': 305}</td>\n",
       "      <td>{'regr__alpha': 306}</td>\n",
       "      <td>{'regr__alpha': 307}</td>\n",
       "      <td>{'regr__alpha': 308}</td>\n",
       "      <td>{'regr__alpha': 309}</td>\n",
       "      <td>...</td>\n",
       "      <td>{'regr__alpha': 390}</td>\n",
       "      <td>{'regr__alpha': 391}</td>\n",
       "      <td>{'regr__alpha': 392}</td>\n",
       "      <td>{'regr__alpha': 393}</td>\n",
       "      <td>{'regr__alpha': 394}</td>\n",
       "      <td>{'regr__alpha': 395}</td>\n",
       "      <td>{'regr__alpha': 396}</td>\n",
       "      <td>{'regr__alpha': 397}</td>\n",
       "      <td>{'regr__alpha': 398}</td>\n",
       "      <td>{'regr__alpha': 399}</td>\n",
       "    </tr>\n",
       "    <tr>\n",
       "      <th>rank_test_score</th>\n",
       "      <td>1</td>\n",
       "      <td>2</td>\n",
       "      <td>3</td>\n",
       "      <td>4</td>\n",
       "      <td>5</td>\n",
       "      <td>6</td>\n",
       "      <td>7</td>\n",
       "      <td>8</td>\n",
       "      <td>9</td>\n",
       "      <td>10</td>\n",
       "      <td>...</td>\n",
       "      <td>91</td>\n",
       "      <td>92</td>\n",
       "      <td>93</td>\n",
       "      <td>94</td>\n",
       "      <td>95</td>\n",
       "      <td>96</td>\n",
       "      <td>97</td>\n",
       "      <td>98</td>\n",
       "      <td>99</td>\n",
       "      <td>100</td>\n",
       "    </tr>\n",
       "    <tr>\n",
       "      <th>split0_test_score</th>\n",
       "      <td>0.91408</td>\n",
       "      <td>0.914044</td>\n",
       "      <td>0.914008</td>\n",
       "      <td>0.913972</td>\n",
       "      <td>0.913936</td>\n",
       "      <td>0.9139</td>\n",
       "      <td>0.913864</td>\n",
       "      <td>0.913828</td>\n",
       "      <td>0.913791</td>\n",
       "      <td>0.913755</td>\n",
       "      <td>...</td>\n",
       "      <td>0.91083</td>\n",
       "      <td>0.910794</td>\n",
       "      <td>0.910758</td>\n",
       "      <td>0.910722</td>\n",
       "      <td>0.910686</td>\n",
       "      <td>0.91065</td>\n",
       "      <td>0.910614</td>\n",
       "      <td>0.910578</td>\n",
       "      <td>0.910542</td>\n",
       "      <td>0.910505</td>\n",
       "    </tr>\n",
       "    <tr>\n",
       "      <th>split0_train_score</th>\n",
       "      <td>0.994769</td>\n",
       "      <td>0.994741</td>\n",
       "      <td>0.994712</td>\n",
       "      <td>0.994683</td>\n",
       "      <td>0.994654</td>\n",
       "      <td>0.994626</td>\n",
       "      <td>0.994597</td>\n",
       "      <td>0.994568</td>\n",
       "      <td>0.994539</td>\n",
       "      <td>0.99451</td>\n",
       "      <td>...</td>\n",
       "      <td>0.99203</td>\n",
       "      <td>0.991998</td>\n",
       "      <td>0.991966</td>\n",
       "      <td>0.991933</td>\n",
       "      <td>0.991901</td>\n",
       "      <td>0.991869</td>\n",
       "      <td>0.991837</td>\n",
       "      <td>0.991805</td>\n",
       "      <td>0.991772</td>\n",
       "      <td>0.99174</td>\n",
       "    </tr>\n",
       "    <tr>\n",
       "      <th>split1_test_score</th>\n",
       "      <td>0.89593</td>\n",
       "      <td>0.895912</td>\n",
       "      <td>0.895894</td>\n",
       "      <td>0.895877</td>\n",
       "      <td>0.895859</td>\n",
       "      <td>0.895841</td>\n",
       "      <td>0.895823</td>\n",
       "      <td>0.895806</td>\n",
       "      <td>0.895788</td>\n",
       "      <td>0.89577</td>\n",
       "      <td>...</td>\n",
       "      <td>0.894305</td>\n",
       "      <td>0.894286</td>\n",
       "      <td>0.894268</td>\n",
       "      <td>0.89425</td>\n",
       "      <td>0.894231</td>\n",
       "      <td>0.894213</td>\n",
       "      <td>0.894194</td>\n",
       "      <td>0.894176</td>\n",
       "      <td>0.894158</td>\n",
       "      <td>0.894139</td>\n",
       "    </tr>\n",
       "    <tr>\n",
       "      <th>split1_train_score</th>\n",
       "      <td>0.995012</td>\n",
       "      <td>0.994985</td>\n",
       "      <td>0.994957</td>\n",
       "      <td>0.99493</td>\n",
       "      <td>0.994902</td>\n",
       "      <td>0.994875</td>\n",
       "      <td>0.994847</td>\n",
       "      <td>0.994819</td>\n",
       "      <td>0.994792</td>\n",
       "      <td>0.994764</td>\n",
       "      <td>...</td>\n",
       "      <td>0.992387</td>\n",
       "      <td>0.992356</td>\n",
       "      <td>0.992325</td>\n",
       "      <td>0.992295</td>\n",
       "      <td>0.992264</td>\n",
       "      <td>0.992233</td>\n",
       "      <td>0.992202</td>\n",
       "      <td>0.992171</td>\n",
       "      <td>0.99214</td>\n",
       "      <td>0.992109</td>\n",
       "    </tr>\n",
       "    <tr>\n",
       "      <th>split2_test_score</th>\n",
       "      <td>0.882062</td>\n",
       "      <td>0.882048</td>\n",
       "      <td>0.882035</td>\n",
       "      <td>0.882021</td>\n",
       "      <td>0.882007</td>\n",
       "      <td>0.881994</td>\n",
       "      <td>0.88198</td>\n",
       "      <td>0.881966</td>\n",
       "      <td>0.881953</td>\n",
       "      <td>0.881939</td>\n",
       "      <td>...</td>\n",
       "      <td>0.880755</td>\n",
       "      <td>0.88074</td>\n",
       "      <td>0.880724</td>\n",
       "      <td>0.880709</td>\n",
       "      <td>0.880693</td>\n",
       "      <td>0.880678</td>\n",
       "      <td>0.880662</td>\n",
       "      <td>0.880647</td>\n",
       "      <td>0.880631</td>\n",
       "      <td>0.880616</td>\n",
       "    </tr>\n",
       "    <tr>\n",
       "      <th>split2_train_score</th>\n",
       "      <td>0.995107</td>\n",
       "      <td>0.995081</td>\n",
       "      <td>0.995054</td>\n",
       "      <td>0.995027</td>\n",
       "      <td>0.995</td>\n",
       "      <td>0.994973</td>\n",
       "      <td>0.994946</td>\n",
       "      <td>0.994918</td>\n",
       "      <td>0.994891</td>\n",
       "      <td>0.994864</td>\n",
       "      <td>...</td>\n",
       "      <td>0.992534</td>\n",
       "      <td>0.992504</td>\n",
       "      <td>0.992474</td>\n",
       "      <td>0.992444</td>\n",
       "      <td>0.992413</td>\n",
       "      <td>0.992383</td>\n",
       "      <td>0.992353</td>\n",
       "      <td>0.992322</td>\n",
       "      <td>0.992292</td>\n",
       "      <td>0.992262</td>\n",
       "    </tr>\n",
       "    <tr>\n",
       "      <th>split3_test_score</th>\n",
       "      <td>0.809982</td>\n",
       "      <td>0.809924</td>\n",
       "      <td>0.809866</td>\n",
       "      <td>0.809808</td>\n",
       "      <td>0.809751</td>\n",
       "      <td>0.809693</td>\n",
       "      <td>0.809635</td>\n",
       "      <td>0.809578</td>\n",
       "      <td>0.80952</td>\n",
       "      <td>0.809462</td>\n",
       "      <td>...</td>\n",
       "      <td>0.804855</td>\n",
       "      <td>0.804799</td>\n",
       "      <td>0.804743</td>\n",
       "      <td>0.804687</td>\n",
       "      <td>0.804631</td>\n",
       "      <td>0.804575</td>\n",
       "      <td>0.804519</td>\n",
       "      <td>0.804463</td>\n",
       "      <td>0.804407</td>\n",
       "      <td>0.804351</td>\n",
       "    </tr>\n",
       "    <tr>\n",
       "      <th>split3_train_score</th>\n",
       "      <td>0.994954</td>\n",
       "      <td>0.994927</td>\n",
       "      <td>0.994899</td>\n",
       "      <td>0.994871</td>\n",
       "      <td>0.994844</td>\n",
       "      <td>0.994816</td>\n",
       "      <td>0.994788</td>\n",
       "      <td>0.99476</td>\n",
       "      <td>0.994732</td>\n",
       "      <td>0.994705</td>\n",
       "      <td>...</td>\n",
       "      <td>0.992317</td>\n",
       "      <td>0.992286</td>\n",
       "      <td>0.992256</td>\n",
       "      <td>0.992225</td>\n",
       "      <td>0.992194</td>\n",
       "      <td>0.992163</td>\n",
       "      <td>0.992132</td>\n",
       "      <td>0.992101</td>\n",
       "      <td>0.99207</td>\n",
       "      <td>0.992039</td>\n",
       "    </tr>\n",
       "    <tr>\n",
       "      <th>split4_test_score</th>\n",
       "      <td>0.906237</td>\n",
       "      <td>0.906219</td>\n",
       "      <td>0.906201</td>\n",
       "      <td>0.906183</td>\n",
       "      <td>0.906165</td>\n",
       "      <td>0.906147</td>\n",
       "      <td>0.906129</td>\n",
       "      <td>0.906111</td>\n",
       "      <td>0.906094</td>\n",
       "      <td>0.906076</td>\n",
       "      <td>...</td>\n",
       "      <td>0.904601</td>\n",
       "      <td>0.904582</td>\n",
       "      <td>0.904564</td>\n",
       "      <td>0.904545</td>\n",
       "      <td>0.904527</td>\n",
       "      <td>0.904508</td>\n",
       "      <td>0.90449</td>\n",
       "      <td>0.904471</td>\n",
       "      <td>0.904453</td>\n",
       "      <td>0.904434</td>\n",
       "    </tr>\n",
       "    <tr>\n",
       "      <th>split4_train_score</th>\n",
       "      <td>0.994996</td>\n",
       "      <td>0.994969</td>\n",
       "      <td>0.994941</td>\n",
       "      <td>0.994913</td>\n",
       "      <td>0.994886</td>\n",
       "      <td>0.994858</td>\n",
       "      <td>0.994831</td>\n",
       "      <td>0.994803</td>\n",
       "      <td>0.994775</td>\n",
       "      <td>0.994747</td>\n",
       "      <td>...</td>\n",
       "      <td>0.992368</td>\n",
       "      <td>0.992337</td>\n",
       "      <td>0.992306</td>\n",
       "      <td>0.992275</td>\n",
       "      <td>0.992244</td>\n",
       "      <td>0.992213</td>\n",
       "      <td>0.992182</td>\n",
       "      <td>0.992151</td>\n",
       "      <td>0.99212</td>\n",
       "      <td>0.992089</td>\n",
       "    </tr>\n",
       "    <tr>\n",
       "      <th>std_fit_time</th>\n",
       "      <td>0.0314176</td>\n",
       "      <td>0.000903257</td>\n",
       "      <td>0.00251178</td>\n",
       "      <td>0.00181202</td>\n",
       "      <td>0.00100658</td>\n",
       "      <td>0.00119382</td>\n",
       "      <td>0.00143618</td>\n",
       "      <td>0.000689084</td>\n",
       "      <td>0.00201102</td>\n",
       "      <td>0.00269694</td>\n",
       "      <td>...</td>\n",
       "      <td>0.00206239</td>\n",
       "      <td>0.0016696</td>\n",
       "      <td>0.00132479</td>\n",
       "      <td>0.000743017</td>\n",
       "      <td>0.00253074</td>\n",
       "      <td>0.00241476</td>\n",
       "      <td>0.00198933</td>\n",
       "      <td>0.00161643</td>\n",
       "      <td>0.00140797</td>\n",
       "      <td>0.000372978</td>\n",
       "    </tr>\n",
       "    <tr>\n",
       "      <th>std_score_time</th>\n",
       "      <td>1.06443e-05</td>\n",
       "      <td>0.000228057</td>\n",
       "      <td>2.43885e-05</td>\n",
       "      <td>2.13213e-05</td>\n",
       "      <td>6.32083e-05</td>\n",
       "      <td>5.86704e-05</td>\n",
       "      <td>2.57433e-05</td>\n",
       "      <td>3.7487e-05</td>\n",
       "      <td>2.18787e-05</td>\n",
       "      <td>3.87233e-05</td>\n",
       "      <td>...</td>\n",
       "      <td>3.09926e-05</td>\n",
       "      <td>6.07335e-05</td>\n",
       "      <td>3.38373e-05</td>\n",
       "      <td>3.31178e-05</td>\n",
       "      <td>3.03212e-05</td>\n",
       "      <td>5.61048e-05</td>\n",
       "      <td>8.93392e-05</td>\n",
       "      <td>5.5841e-05</td>\n",
       "      <td>6.52109e-05</td>\n",
       "      <td>3.66749e-05</td>\n",
       "    </tr>\n",
       "    <tr>\n",
       "      <th>std_test_score</th>\n",
       "      <td>0.0374077</td>\n",
       "      <td>0.0374198</td>\n",
       "      <td>0.037432</td>\n",
       "      <td>0.0374441</td>\n",
       "      <td>0.0374562</td>\n",
       "      <td>0.0374684</td>\n",
       "      <td>0.0374805</td>\n",
       "      <td>0.0374926</td>\n",
       "      <td>0.0375047</td>\n",
       "      <td>0.0375168</td>\n",
       "      <td>...</td>\n",
       "      <td>0.0384793</td>\n",
       "      <td>0.038491</td>\n",
       "      <td>0.0385026</td>\n",
       "      <td>0.0385142</td>\n",
       "      <td>0.0385259</td>\n",
       "      <td>0.0385375</td>\n",
       "      <td>0.0385491</td>\n",
       "      <td>0.0385608</td>\n",
       "      <td>0.0385724</td>\n",
       "      <td>0.038584</td>\n",
       "    </tr>\n",
       "    <tr>\n",
       "      <th>std_train_score</th>\n",
       "      <td>0.000111243</td>\n",
       "      <td>0.000111819</td>\n",
       "      <td>0.000112396</td>\n",
       "      <td>0.000112973</td>\n",
       "      <td>0.000113551</td>\n",
       "      <td>0.00011413</td>\n",
       "      <td>0.000114709</td>\n",
       "      <td>0.000115289</td>\n",
       "      <td>0.00011587</td>\n",
       "      <td>0.000116451</td>\n",
       "      <td>...</td>\n",
       "      <td>0.000165261</td>\n",
       "      <td>0.000165881</td>\n",
       "      <td>0.000166502</td>\n",
       "      <td>0.000167123</td>\n",
       "      <td>0.000167744</td>\n",
       "      <td>0.000168365</td>\n",
       "      <td>0.000168987</td>\n",
       "      <td>0.000169609</td>\n",
       "      <td>0.000170232</td>\n",
       "      <td>0.000170855</td>\n",
       "    </tr>\n",
       "  </tbody>\n",
       "</table>\n",
       "<p>21 rows × 100 columns</p>\n",
       "</div>"
      ],
      "text/plain": [
       "                                      0                     1   \\\n",
       "mean_fit_time                   0.144119              0.128582   \n",
       "mean_score_time               0.00241613            0.00251827   \n",
       "mean_test_score                 0.881658              0.881629   \n",
       "mean_train_score                0.994968               0.99494   \n",
       "param_regr__alpha                    300                   301   \n",
       "params              {'regr__alpha': 300}  {'regr__alpha': 301}   \n",
       "rank_test_score                        1                     2   \n",
       "split0_test_score                0.91408              0.914044   \n",
       "split0_train_score              0.994769              0.994741   \n",
       "split1_test_score                0.89593              0.895912   \n",
       "split1_train_score              0.995012              0.994985   \n",
       "split2_test_score               0.882062              0.882048   \n",
       "split2_train_score              0.995107              0.995081   \n",
       "split3_test_score               0.809982              0.809924   \n",
       "split3_train_score              0.994954              0.994927   \n",
       "split4_test_score               0.906237              0.906219   \n",
       "split4_train_score              0.994996              0.994969   \n",
       "std_fit_time                   0.0314176           0.000903257   \n",
       "std_score_time               1.06443e-05           0.000228057   \n",
       "std_test_score                 0.0374077             0.0374198   \n",
       "std_train_score              0.000111243           0.000111819   \n",
       "\n",
       "                                      2                     3   \\\n",
       "mean_fit_time                   0.127142              0.127725   \n",
       "mean_score_time               0.00237141            0.00240045   \n",
       "mean_test_score                 0.881601              0.881572   \n",
       "mean_train_score                0.994913              0.994885   \n",
       "param_regr__alpha                    302                   303   \n",
       "params              {'regr__alpha': 302}  {'regr__alpha': 303}   \n",
       "rank_test_score                        3                     4   \n",
       "split0_test_score               0.914008              0.913972   \n",
       "split0_train_score              0.994712              0.994683   \n",
       "split1_test_score               0.895894              0.895877   \n",
       "split1_train_score              0.994957               0.99493   \n",
       "split2_test_score               0.882035              0.882021   \n",
       "split2_train_score              0.995054              0.995027   \n",
       "split3_test_score               0.809866              0.809808   \n",
       "split3_train_score              0.994899              0.994871   \n",
       "split4_test_score               0.906201              0.906183   \n",
       "split4_train_score              0.994941              0.994913   \n",
       "std_fit_time                  0.00251178            0.00181202   \n",
       "std_score_time               2.43885e-05           2.13213e-05   \n",
       "std_test_score                  0.037432             0.0374441   \n",
       "std_train_score              0.000112396           0.000112973   \n",
       "\n",
       "                                      4                     5   \\\n",
       "mean_fit_time                    0.12613              0.126744   \n",
       "mean_score_time               0.00236521            0.00241642   \n",
       "mean_test_score                 0.881544              0.881515   \n",
       "mean_train_score                0.994857              0.994829   \n",
       "param_regr__alpha                    304                   305   \n",
       "params              {'regr__alpha': 304}  {'regr__alpha': 305}   \n",
       "rank_test_score                        5                     6   \n",
       "split0_test_score               0.913936                0.9139   \n",
       "split0_train_score              0.994654              0.994626   \n",
       "split1_test_score               0.895859              0.895841   \n",
       "split1_train_score              0.994902              0.994875   \n",
       "split2_test_score               0.882007              0.881994   \n",
       "split2_train_score                 0.995              0.994973   \n",
       "split3_test_score               0.809751              0.809693   \n",
       "split3_train_score              0.994844              0.994816   \n",
       "split4_test_score               0.906165              0.906147   \n",
       "split4_train_score              0.994886              0.994858   \n",
       "std_fit_time                  0.00100658            0.00119382   \n",
       "std_score_time               6.32083e-05           5.86704e-05   \n",
       "std_test_score                 0.0374562             0.0374684   \n",
       "std_train_score              0.000113551            0.00011413   \n",
       "\n",
       "                                      6                     7   \\\n",
       "mean_fit_time                   0.126864              0.125165   \n",
       "mean_score_time               0.00234451            0.00235543   \n",
       "mean_test_score                 0.881486              0.881458   \n",
       "mean_train_score                0.994802              0.994774   \n",
       "param_regr__alpha                    306                   307   \n",
       "params              {'regr__alpha': 306}  {'regr__alpha': 307}   \n",
       "rank_test_score                        7                     8   \n",
       "split0_test_score               0.913864              0.913828   \n",
       "split0_train_score              0.994597              0.994568   \n",
       "split1_test_score               0.895823              0.895806   \n",
       "split1_train_score              0.994847              0.994819   \n",
       "split2_test_score                0.88198              0.881966   \n",
       "split2_train_score              0.994946              0.994918   \n",
       "split3_test_score               0.809635              0.809578   \n",
       "split3_train_score              0.994788               0.99476   \n",
       "split4_test_score               0.906129              0.906111   \n",
       "split4_train_score              0.994831              0.994803   \n",
       "std_fit_time                  0.00143618           0.000689084   \n",
       "std_score_time               2.57433e-05            3.7487e-05   \n",
       "std_test_score                 0.0374805             0.0374926   \n",
       "std_train_score              0.000114709           0.000115289   \n",
       "\n",
       "                                      8                     9   \\\n",
       "mean_fit_time                   0.125983              0.127972   \n",
       "mean_score_time               0.00238509            0.00241013   \n",
       "mean_test_score                 0.881429                0.8814   \n",
       "mean_train_score                0.994746              0.994718   \n",
       "param_regr__alpha                    308                   309   \n",
       "params              {'regr__alpha': 308}  {'regr__alpha': 309}   \n",
       "rank_test_score                        9                    10   \n",
       "split0_test_score               0.913791              0.913755   \n",
       "split0_train_score              0.994539               0.99451   \n",
       "split1_test_score               0.895788               0.89577   \n",
       "split1_train_score              0.994792              0.994764   \n",
       "split2_test_score               0.881953              0.881939   \n",
       "split2_train_score              0.994891              0.994864   \n",
       "split3_test_score                0.80952              0.809462   \n",
       "split3_train_score              0.994732              0.994705   \n",
       "split4_test_score               0.906094              0.906076   \n",
       "split4_train_score              0.994775              0.994747   \n",
       "std_fit_time                  0.00201102            0.00269694   \n",
       "std_score_time               2.18787e-05           3.87233e-05   \n",
       "std_test_score                 0.0375047             0.0375168   \n",
       "std_train_score               0.00011587           0.000116451   \n",
       "\n",
       "                            ...                             90  \\\n",
       "mean_fit_time               ...                       0.127087   \n",
       "mean_score_time             ...                     0.00237989   \n",
       "mean_test_score             ...                       0.879069   \n",
       "mean_train_score            ...                       0.992327   \n",
       "param_regr__alpha           ...                            390   \n",
       "params                      ...           {'regr__alpha': 390}   \n",
       "rank_test_score             ...                             91   \n",
       "split0_test_score           ...                        0.91083   \n",
       "split0_train_score          ...                        0.99203   \n",
       "split1_test_score           ...                       0.894305   \n",
       "split1_train_score          ...                       0.992387   \n",
       "split2_test_score           ...                       0.880755   \n",
       "split2_train_score          ...                       0.992534   \n",
       "split3_test_score           ...                       0.804855   \n",
       "split3_train_score          ...                       0.992317   \n",
       "split4_test_score           ...                       0.904601   \n",
       "split4_train_score          ...                       0.992368   \n",
       "std_fit_time                ...                     0.00206239   \n",
       "std_score_time              ...                    3.09926e-05   \n",
       "std_test_score              ...                      0.0384793   \n",
       "std_train_score             ...                    0.000165261   \n",
       "\n",
       "                                      91                    92  \\\n",
       "mean_fit_time                   0.128085               0.12722   \n",
       "mean_score_time               0.00242343            0.00236845   \n",
       "mean_test_score                  0.87904              0.879011   \n",
       "mean_train_score                0.992296              0.992265   \n",
       "param_regr__alpha                    391                   392   \n",
       "params              {'regr__alpha': 391}  {'regr__alpha': 392}   \n",
       "rank_test_score                       92                    93   \n",
       "split0_test_score               0.910794              0.910758   \n",
       "split0_train_score              0.991998              0.991966   \n",
       "split1_test_score               0.894286              0.894268   \n",
       "split1_train_score              0.992356              0.992325   \n",
       "split2_test_score                0.88074              0.880724   \n",
       "split2_train_score              0.992504              0.992474   \n",
       "split3_test_score               0.804799              0.804743   \n",
       "split3_train_score              0.992286              0.992256   \n",
       "split4_test_score               0.904582              0.904564   \n",
       "split4_train_score              0.992337              0.992306   \n",
       "std_fit_time                   0.0016696            0.00132479   \n",
       "std_score_time               6.07335e-05           3.38373e-05   \n",
       "std_test_score                  0.038491             0.0385026   \n",
       "std_train_score              0.000165881           0.000166502   \n",
       "\n",
       "                                      93                    94  \\\n",
       "mean_fit_time                   0.125731              0.126084   \n",
       "mean_score_time               0.00237088            0.00233235   \n",
       "mean_test_score                 0.878983              0.878954   \n",
       "mean_train_score                0.992234              0.992203   \n",
       "param_regr__alpha                    393                   394   \n",
       "params              {'regr__alpha': 393}  {'regr__alpha': 394}   \n",
       "rank_test_score                       94                    95   \n",
       "split0_test_score               0.910722              0.910686   \n",
       "split0_train_score              0.991933              0.991901   \n",
       "split1_test_score                0.89425              0.894231   \n",
       "split1_train_score              0.992295              0.992264   \n",
       "split2_test_score               0.880709              0.880693   \n",
       "split2_train_score              0.992444              0.992413   \n",
       "split3_test_score               0.804687              0.804631   \n",
       "split3_train_score              0.992225              0.992194   \n",
       "split4_test_score               0.904545              0.904527   \n",
       "split4_train_score              0.992275              0.992244   \n",
       "std_fit_time                 0.000743017            0.00253074   \n",
       "std_score_time               3.31178e-05           3.03212e-05   \n",
       "std_test_score                 0.0385142             0.0385259   \n",
       "std_train_score              0.000167123           0.000167744   \n",
       "\n",
       "                                      95                    96  \\\n",
       "mean_fit_time                   0.126146              0.126286   \n",
       "mean_score_time                0.0023437            0.00237718   \n",
       "mean_test_score                 0.878925              0.878896   \n",
       "mean_train_score                0.992172              0.992141   \n",
       "param_regr__alpha                    395                   396   \n",
       "params              {'regr__alpha': 395}  {'regr__alpha': 396}   \n",
       "rank_test_score                       96                    97   \n",
       "split0_test_score                0.91065              0.910614   \n",
       "split0_train_score              0.991869              0.991837   \n",
       "split1_test_score               0.894213              0.894194   \n",
       "split1_train_score              0.992233              0.992202   \n",
       "split2_test_score               0.880678              0.880662   \n",
       "split2_train_score              0.992383              0.992353   \n",
       "split3_test_score               0.804575              0.804519   \n",
       "split3_train_score              0.992163              0.992132   \n",
       "split4_test_score               0.904508               0.90449   \n",
       "split4_train_score              0.992213              0.992182   \n",
       "std_fit_time                  0.00241476            0.00198933   \n",
       "std_score_time               5.61048e-05           8.93392e-05   \n",
       "std_test_score                 0.0385375             0.0385491   \n",
       "std_train_score              0.000168365           0.000168987   \n",
       "\n",
       "                                      97                    98  \\\n",
       "mean_fit_time                   0.125944              0.125182   \n",
       "mean_score_time               0.00233259            0.00237589   \n",
       "mean_test_score                 0.878867              0.878838   \n",
       "mean_train_score                 0.99211              0.992079   \n",
       "param_regr__alpha                    397                   398   \n",
       "params              {'regr__alpha': 397}  {'regr__alpha': 398}   \n",
       "rank_test_score                       98                    99   \n",
       "split0_test_score               0.910578              0.910542   \n",
       "split0_train_score              0.991805              0.991772   \n",
       "split1_test_score               0.894176              0.894158   \n",
       "split1_train_score              0.992171               0.99214   \n",
       "split2_test_score               0.880647              0.880631   \n",
       "split2_train_score              0.992322              0.992292   \n",
       "split3_test_score               0.804463              0.804407   \n",
       "split3_train_score              0.992101               0.99207   \n",
       "split4_test_score               0.904471              0.904453   \n",
       "split4_train_score              0.992151               0.99212   \n",
       "std_fit_time                  0.00161643            0.00140797   \n",
       "std_score_time                5.5841e-05           6.52109e-05   \n",
       "std_test_score                 0.0385608             0.0385724   \n",
       "std_train_score              0.000169609           0.000170232   \n",
       "\n",
       "                                      99  \n",
       "mean_fit_time                   0.125323  \n",
       "mean_score_time               0.00232482  \n",
       "mean_test_score                 0.878809  \n",
       "mean_train_score                0.992048  \n",
       "param_regr__alpha                    399  \n",
       "params              {'regr__alpha': 399}  \n",
       "rank_test_score                      100  \n",
       "split0_test_score               0.910505  \n",
       "split0_train_score               0.99174  \n",
       "split1_test_score               0.894139  \n",
       "split1_train_score              0.992109  \n",
       "split2_test_score               0.880616  \n",
       "split2_train_score              0.992262  \n",
       "split3_test_score               0.804351  \n",
       "split3_train_score              0.992039  \n",
       "split4_test_score               0.904434  \n",
       "split4_train_score              0.992089  \n",
       "std_fit_time                 0.000372978  \n",
       "std_score_time               3.66749e-05  \n",
       "std_test_score                  0.038584  \n",
       "std_train_score              0.000170855  \n",
       "\n",
       "[21 rows x 100 columns]"
      ]
     },
     "execution_count": 138,
     "metadata": {},
     "output_type": "execute_result"
    }
   ],
   "source": [
    "gspipe_ridge_results = pd.DataFrame(gspipe_ridge.cv_results_)\n",
    "\n",
    "gspipe_ridge_results.sort_values('rank_test_score', ascending=True).T"
   ]
  },
  {
   "cell_type": "code",
   "execution_count": 139,
   "metadata": {},
   "outputs": [
    {
     "data": {
      "text/plain": [
       "Pipeline(memory=None,\n",
       "     steps=[('scaler', StandardScaler(copy=True, with_mean=True, with_std=True)), ('regr', Ridge(alpha=300, copy_X=True, fit_intercept=True, max_iter=None,\n",
       "   normalize=False, random_state=None, solver='auto', tol=0.001))])"
      ]
     },
     "execution_count": 139,
     "metadata": {},
     "output_type": "execute_result"
    }
   ],
   "source": [
    "gspipe_ridge.best_estimator_\n"
   ]
  },
  {
   "cell_type": "code",
   "execution_count": 140,
   "metadata": {},
   "outputs": [
    {
     "data": {
      "text/plain": [
       "0.88165805186283563"
      ]
     },
     "execution_count": 140,
     "metadata": {},
     "output_type": "execute_result"
    }
   ],
   "source": [
    "gspipe_ridge.best_score_\n"
   ]
  },
  {
   "cell_type": "code",
   "execution_count": 143,
   "metadata": {},
   "outputs": [
    {
     "data": {
      "text/plain": [
       "array([[ 121925.49259212],\n",
       "       [ 165729.0097907 ],\n",
       "       [ 201944.30930148],\n",
       "       ..., \n",
       "       [ 176487.64701105],\n",
       "       [ 133600.73531988],\n",
       "       [ 210033.79591315]])"
      ]
     },
     "execution_count": 143,
     "metadata": {},
     "output_type": "execute_result"
    }
   ],
   "source": [
    "predict_gspipe_ridge = gspipe_ridge.predict(features_dummies_test)\n",
    "predict_gspipe_ridge"
   ]
  },
  {
   "cell_type": "markdown",
   "metadata": {},
   "source": [
    "# GridSearchCV Lasso"
   ]
  },
  {
   "cell_type": "code",
   "execution_count": 147,
   "metadata": {},
   "outputs": [],
   "source": [
    "pipe_for_gs_Lasso = Pipeline([\n",
    "    ('scaler', StandardScaler()),\n",
    "    ('regr', Lasso())\n",
    "])"
   ]
  },
  {
   "cell_type": "code",
   "execution_count": 151,
   "metadata": {},
   "outputs": [],
   "source": [
    "Lasso_param_grid = {'regr__max_iter': [1000, 10000, 100000]}"
   ]
  },
  {
   "cell_type": "code",
   "execution_count": 152,
   "metadata": {},
   "outputs": [],
   "source": [
    "gspipe_lasso = GridSearchCV(pipe_for_gs_Lasso,\n",
    "                      param_grid=lasso_param_grid,\n",
    "                      n_jobs=-1,\n",
    "                      cv=ShuffleSplit(n_splits=5, random_state=42))"
   ]
  },
  {
   "cell_type": "code",
   "execution_count": 153,
   "metadata": {},
   "outputs": [
    {
     "name": "stderr",
     "output_type": "stream",
     "text": [
      "/opt/conda/lib/python3.6/site-packages/sklearn/linear_model/coordinate_descent.py:491: ConvergenceWarning: Objective did not converge. You might want to increase the number of iterations. Fitting data with very small alpha may cause precision problems.\n",
      "  ConvergenceWarning)\n",
      "/opt/conda/lib/python3.6/site-packages/sklearn/linear_model/coordinate_descent.py:491: ConvergenceWarning: Objective did not converge. You might want to increase the number of iterations. Fitting data with very small alpha may cause precision problems.\n",
      "  ConvergenceWarning)\n",
      "/opt/conda/lib/python3.6/site-packages/sklearn/linear_model/coordinate_descent.py:491: ConvergenceWarning: Objective did not converge. You might want to increase the number of iterations. Fitting data with very small alpha may cause precision problems.\n",
      "  ConvergenceWarning)\n",
      "/opt/conda/lib/python3.6/site-packages/sklearn/linear_model/coordinate_descent.py:491: ConvergenceWarning: Objective did not converge. You might want to increase the number of iterations. Fitting data with very small alpha may cause precision problems.\n",
      "  ConvergenceWarning)\n",
      "/opt/conda/lib/python3.6/site-packages/sklearn/linear_model/coordinate_descent.py:491: ConvergenceWarning: Objective did not converge. You might want to increase the number of iterations. Fitting data with very small alpha may cause precision problems.\n",
      "  ConvergenceWarning)\n",
      "/opt/conda/lib/python3.6/site-packages/sklearn/linear_model/coordinate_descent.py:491: ConvergenceWarning: Objective did not converge. You might want to increase the number of iterations. Fitting data with very small alpha may cause precision problems.\n",
      "  ConvergenceWarning)\n",
      "/opt/conda/lib/python3.6/site-packages/sklearn/linear_model/coordinate_descent.py:491: ConvergenceWarning: Objective did not converge. You might want to increase the number of iterations. Fitting data with very small alpha may cause precision problems.\n",
      "  ConvergenceWarning)\n",
      "/opt/conda/lib/python3.6/site-packages/sklearn/linear_model/coordinate_descent.py:491: ConvergenceWarning: Objective did not converge. You might want to increase the number of iterations. Fitting data with very small alpha may cause precision problems.\n",
      "  ConvergenceWarning)\n",
      "/opt/conda/lib/python3.6/site-packages/sklearn/linear_model/coordinate_descent.py:491: ConvergenceWarning: Objective did not converge. You might want to increase the number of iterations. Fitting data with very small alpha may cause precision problems.\n",
      "  ConvergenceWarning)\n",
      "/opt/conda/lib/python3.6/site-packages/sklearn/linear_model/coordinate_descent.py:491: ConvergenceWarning: Objective did not converge. You might want to increase the number of iterations. Fitting data with very small alpha may cause precision problems.\n",
      "  ConvergenceWarning)\n",
      "/opt/conda/lib/python3.6/site-packages/sklearn/linear_model/coordinate_descent.py:491: ConvergenceWarning: Objective did not converge. You might want to increase the number of iterations. Fitting data with very small alpha may cause precision problems.\n",
      "  ConvergenceWarning)\n",
      "/opt/conda/lib/python3.6/site-packages/sklearn/linear_model/coordinate_descent.py:491: ConvergenceWarning: Objective did not converge. You might want to increase the number of iterations. Fitting data with very small alpha may cause precision problems.\n",
      "  ConvergenceWarning)\n",
      "/opt/conda/lib/python3.6/site-packages/sklearn/linear_model/coordinate_descent.py:491: ConvergenceWarning: Objective did not converge. You might want to increase the number of iterations. Fitting data with very small alpha may cause precision problems.\n",
      "  ConvergenceWarning)\n",
      "/opt/conda/lib/python3.6/site-packages/sklearn/linear_model/coordinate_descent.py:491: ConvergenceWarning: Objective did not converge. You might want to increase the number of iterations. Fitting data with very small alpha may cause precision problems.\n",
      "  ConvergenceWarning)\n",
      "/opt/conda/lib/python3.6/site-packages/sklearn/linear_model/coordinate_descent.py:491: ConvergenceWarning: Objective did not converge. You might want to increase the number of iterations. Fitting data with very small alpha may cause precision problems.\n",
      "  ConvergenceWarning)\n",
      "/opt/conda/lib/python3.6/site-packages/sklearn/linear_model/coordinate_descent.py:491: ConvergenceWarning: Objective did not converge. You might want to increase the number of iterations. Fitting data with very small alpha may cause precision problems.\n",
      "  ConvergenceWarning)\n",
      "/opt/conda/lib/python3.6/site-packages/sklearn/linear_model/coordinate_descent.py:491: ConvergenceWarning: Objective did not converge. You might want to increase the number of iterations. Fitting data with very small alpha may cause precision problems.\n",
      "  ConvergenceWarning)\n",
      "/opt/conda/lib/python3.6/site-packages/sklearn/linear_model/coordinate_descent.py:491: ConvergenceWarning: Objective did not converge. You might want to increase the number of iterations. Fitting data with very small alpha may cause precision problems.\n",
      "  ConvergenceWarning)\n",
      "/opt/conda/lib/python3.6/site-packages/sklearn/linear_model/coordinate_descent.py:491: ConvergenceWarning: Objective did not converge. You might want to increase the number of iterations. Fitting data with very small alpha may cause precision problems.\n",
      "  ConvergenceWarning)\n",
      "/opt/conda/lib/python3.6/site-packages/sklearn/linear_model/coordinate_descent.py:491: ConvergenceWarning: Objective did not converge. You might want to increase the number of iterations. Fitting data with very small alpha may cause precision problems.\n",
      "  ConvergenceWarning)\n",
      "/opt/conda/lib/python3.6/site-packages/sklearn/linear_model/coordinate_descent.py:491: ConvergenceWarning: Objective did not converge. You might want to increase the number of iterations. Fitting data with very small alpha may cause precision problems.\n",
      "  ConvergenceWarning)\n",
      "/opt/conda/lib/python3.6/site-packages/sklearn/linear_model/coordinate_descent.py:491: ConvergenceWarning: Objective did not converge. You might want to increase the number of iterations. Fitting data with very small alpha may cause precision problems.\n",
      "  ConvergenceWarning)\n",
      "/opt/conda/lib/python3.6/site-packages/sklearn/linear_model/coordinate_descent.py:491: ConvergenceWarning: Objective did not converge. You might want to increase the number of iterations. Fitting data with very small alpha may cause precision problems.\n",
      "  ConvergenceWarning)\n",
      "/opt/conda/lib/python3.6/site-packages/sklearn/linear_model/coordinate_descent.py:491: ConvergenceWarning: Objective did not converge. You might want to increase the number of iterations. Fitting data with very small alpha may cause precision problems.\n",
      "  ConvergenceWarning)\n",
      "/opt/conda/lib/python3.6/site-packages/sklearn/linear_model/coordinate_descent.py:491: ConvergenceWarning: Objective did not converge. You might want to increase the number of iterations. Fitting data with very small alpha may cause precision problems.\n",
      "  ConvergenceWarning)\n",
      "/opt/conda/lib/python3.6/site-packages/sklearn/linear_model/coordinate_descent.py:491: ConvergenceWarning: Objective did not converge. You might want to increase the number of iterations. Fitting data with very small alpha may cause precision problems.\n",
      "  ConvergenceWarning)\n",
      "/opt/conda/lib/python3.6/site-packages/sklearn/linear_model/coordinate_descent.py:491: ConvergenceWarning: Objective did not converge. You might want to increase the number of iterations. Fitting data with very small alpha may cause precision problems.\n",
      "  ConvergenceWarning)\n",
      "/opt/conda/lib/python3.6/site-packages/sklearn/linear_model/coordinate_descent.py:491: ConvergenceWarning: Objective did not converge. You might want to increase the number of iterations. Fitting data with very small alpha may cause precision problems.\n",
      "  ConvergenceWarning)\n",
      "/opt/conda/lib/python3.6/site-packages/sklearn/linear_model/coordinate_descent.py:491: ConvergenceWarning: Objective did not converge. You might want to increase the number of iterations. Fitting data with very small alpha may cause precision problems.\n",
      "  ConvergenceWarning)\n",
      "/opt/conda/lib/python3.6/site-packages/sklearn/linear_model/coordinate_descent.py:491: ConvergenceWarning: Objective did not converge. You might want to increase the number of iterations. Fitting data with very small alpha may cause precision problems.\n",
      "  ConvergenceWarning)\n",
      "/opt/conda/lib/python3.6/site-packages/sklearn/linear_model/coordinate_descent.py:491: ConvergenceWarning: Objective did not converge. You might want to increase the number of iterations. Fitting data with very small alpha may cause precision problems.\n",
      "  ConvergenceWarning)\n",
      "/opt/conda/lib/python3.6/site-packages/sklearn/linear_model/coordinate_descent.py:491: ConvergenceWarning: Objective did not converge. You might want to increase the number of iterations. Fitting data with very small alpha may cause precision problems.\n",
      "  ConvergenceWarning)\n",
      "/opt/conda/lib/python3.6/site-packages/sklearn/linear_model/coordinate_descent.py:491: ConvergenceWarning: Objective did not converge. You might want to increase the number of iterations. Fitting data with very small alpha may cause precision problems.\n",
      "  ConvergenceWarning)\n",
      "/opt/conda/lib/python3.6/site-packages/sklearn/linear_model/coordinate_descent.py:491: ConvergenceWarning: Objective did not converge. You might want to increase the number of iterations. Fitting data with very small alpha may cause precision problems.\n",
      "  ConvergenceWarning)\n",
      "/opt/conda/lib/python3.6/site-packages/sklearn/linear_model/coordinate_descent.py:491: ConvergenceWarning: Objective did not converge. You might want to increase the number of iterations. Fitting data with very small alpha may cause precision problems.\n",
      "  ConvergenceWarning)\n",
      "/opt/conda/lib/python3.6/site-packages/sklearn/linear_model/coordinate_descent.py:491: ConvergenceWarning: Objective did not converge. You might want to increase the number of iterations. Fitting data with very small alpha may cause precision problems.\n",
      "  ConvergenceWarning)\n",
      "/opt/conda/lib/python3.6/site-packages/sklearn/linear_model/coordinate_descent.py:491: ConvergenceWarning: Objective did not converge. You might want to increase the number of iterations. Fitting data with very small alpha may cause precision problems.\n",
      "  ConvergenceWarning)\n",
      "/opt/conda/lib/python3.6/site-packages/sklearn/linear_model/coordinate_descent.py:491: ConvergenceWarning: Objective did not converge. You might want to increase the number of iterations. Fitting data with very small alpha may cause precision problems.\n",
      "  ConvergenceWarning)\n",
      "/opt/conda/lib/python3.6/site-packages/sklearn/linear_model/coordinate_descent.py:491: ConvergenceWarning: Objective did not converge. You might want to increase the number of iterations. Fitting data with very small alpha may cause precision problems.\n",
      "  ConvergenceWarning)\n",
      "/opt/conda/lib/python3.6/site-packages/sklearn/linear_model/coordinate_descent.py:491: ConvergenceWarning: Objective did not converge. You might want to increase the number of iterations. Fitting data with very small alpha may cause precision problems.\n",
      "  ConvergenceWarning)\n",
      "/opt/conda/lib/python3.6/site-packages/sklearn/linear_model/coordinate_descent.py:491: ConvergenceWarning: Objective did not converge. You might want to increase the number of iterations. Fitting data with very small alpha may cause precision problems.\n",
      "  ConvergenceWarning)\n",
      "/opt/conda/lib/python3.6/site-packages/sklearn/linear_model/coordinate_descent.py:491: ConvergenceWarning: Objective did not converge. You might want to increase the number of iterations. Fitting data with very small alpha may cause precision problems.\n",
      "  ConvergenceWarning)\n",
      "/opt/conda/lib/python3.6/site-packages/sklearn/linear_model/coordinate_descent.py:491: ConvergenceWarning: Objective did not converge. You might want to increase the number of iterations. Fitting data with very small alpha may cause precision problems.\n",
      "  ConvergenceWarning)\n",
      "/opt/conda/lib/python3.6/site-packages/sklearn/linear_model/coordinate_descent.py:491: ConvergenceWarning: Objective did not converge. You might want to increase the number of iterations. Fitting data with very small alpha may cause precision problems.\n",
      "  ConvergenceWarning)\n",
      "/opt/conda/lib/python3.6/site-packages/sklearn/linear_model/coordinate_descent.py:491: ConvergenceWarning: Objective did not converge. You might want to increase the number of iterations. Fitting data with very small alpha may cause precision problems.\n",
      "  ConvergenceWarning)\n",
      "/opt/conda/lib/python3.6/site-packages/sklearn/linear_model/coordinate_descent.py:491: ConvergenceWarning: Objective did not converge. You might want to increase the number of iterations. Fitting data with very small alpha may cause precision problems.\n",
      "  ConvergenceWarning)\n",
      "/opt/conda/lib/python3.6/site-packages/sklearn/linear_model/coordinate_descent.py:491: ConvergenceWarning: Objective did not converge. You might want to increase the number of iterations. Fitting data with very small alpha may cause precision problems.\n",
      "  ConvergenceWarning)\n",
      "/opt/conda/lib/python3.6/site-packages/sklearn/linear_model/coordinate_descent.py:491: ConvergenceWarning: Objective did not converge. You might want to increase the number of iterations. Fitting data with very small alpha may cause precision problems.\n",
      "  ConvergenceWarning)\n",
      "/opt/conda/lib/python3.6/site-packages/sklearn/linear_model/coordinate_descent.py:491: ConvergenceWarning: Objective did not converge. You might want to increase the number of iterations. Fitting data with very small alpha may cause precision problems.\n",
      "  ConvergenceWarning)\n",
      "/opt/conda/lib/python3.6/site-packages/sklearn/linear_model/coordinate_descent.py:491: ConvergenceWarning: Objective did not converge. You might want to increase the number of iterations. Fitting data with very small alpha may cause precision problems.\n",
      "  ConvergenceWarning)\n",
      "/opt/conda/lib/python3.6/site-packages/sklearn/linear_model/coordinate_descent.py:491: ConvergenceWarning: Objective did not converge. You might want to increase the number of iterations. Fitting data with very small alpha may cause precision problems.\n",
      "  ConvergenceWarning)\n",
      "/opt/conda/lib/python3.6/site-packages/sklearn/linear_model/coordinate_descent.py:491: ConvergenceWarning: Objective did not converge. You might want to increase the number of iterations. Fitting data with very small alpha may cause precision problems.\n",
      "  ConvergenceWarning)\n",
      "/opt/conda/lib/python3.6/site-packages/sklearn/linear_model/coordinate_descent.py:491: ConvergenceWarning: Objective did not converge. You might want to increase the number of iterations. Fitting data with very small alpha may cause precision problems.\n",
      "  ConvergenceWarning)\n",
      "/opt/conda/lib/python3.6/site-packages/sklearn/linear_model/coordinate_descent.py:491: ConvergenceWarning: Objective did not converge. You might want to increase the number of iterations. Fitting data with very small alpha may cause precision problems.\n",
      "  ConvergenceWarning)\n",
      "/opt/conda/lib/python3.6/site-packages/sklearn/linear_model/coordinate_descent.py:491: ConvergenceWarning: Objective did not converge. You might want to increase the number of iterations. Fitting data with very small alpha may cause precision problems.\n",
      "  ConvergenceWarning)\n",
      "/opt/conda/lib/python3.6/site-packages/sklearn/linear_model/coordinate_descent.py:491: ConvergenceWarning: Objective did not converge. You might want to increase the number of iterations. Fitting data with very small alpha may cause precision problems.\n",
      "  ConvergenceWarning)\n",
      "/opt/conda/lib/python3.6/site-packages/sklearn/linear_model/coordinate_descent.py:491: ConvergenceWarning: Objective did not converge. You might want to increase the number of iterations. Fitting data with very small alpha may cause precision problems.\n",
      "  ConvergenceWarning)\n",
      "/opt/conda/lib/python3.6/site-packages/sklearn/linear_model/coordinate_descent.py:491: ConvergenceWarning: Objective did not converge. You might want to increase the number of iterations. Fitting data with very small alpha may cause precision problems.\n",
      "  ConvergenceWarning)\n",
      "/opt/conda/lib/python3.6/site-packages/sklearn/linear_model/coordinate_descent.py:491: ConvergenceWarning: Objective did not converge. You might want to increase the number of iterations. Fitting data with very small alpha may cause precision problems.\n",
      "  ConvergenceWarning)\n",
      "/opt/conda/lib/python3.6/site-packages/sklearn/linear_model/coordinate_descent.py:491: ConvergenceWarning: Objective did not converge. You might want to increase the number of iterations. Fitting data with very small alpha may cause precision problems.\n",
      "  ConvergenceWarning)\n",
      "/opt/conda/lib/python3.6/site-packages/sklearn/linear_model/coordinate_descent.py:491: ConvergenceWarning: Objective did not converge. You might want to increase the number of iterations. Fitting data with very small alpha may cause precision problems.\n",
      "  ConvergenceWarning)\n"
     ]
    },
    {
     "data": {
      "text/plain": [
       "GridSearchCV(cv=ShuffleSplit(n_splits=5, random_state=42, test_size='default',\n",
       "       train_size=None),\n",
       "       error_score='raise',\n",
       "       estimator=Pipeline(memory=None,\n",
       "     steps=[('scaler', StandardScaler(copy=True, with_mean=True, with_std=True)), ('regr', Lasso(alpha=1.0, copy_X=True, fit_intercept=True, max_iter=1000,\n",
       "   normalize=False, positive=False, precompute=False, random_state=None,\n",
       "   selection='cyclic', tol=0.0001, warm_start=False))]),\n",
       "       fit_params=None, iid=True, n_jobs=-1,\n",
       "       param_grid={'regr__alpha': array([  1.25893,   1.51991,   1.835  ,   2.21541,   2.67469,   3.22917,\n",
       "         3.8986 ,   4.70682,   5.68258,   6.86062,   8.28289,  10.     ])},\n",
       "       pre_dispatch='2*n_jobs', refit=True, return_train_score='warn',\n",
       "       scoring=None, verbose=0)"
      ]
     },
     "execution_count": 153,
     "metadata": {},
     "output_type": "execute_result"
    }
   ],
   "source": [
    "gspipe_lasso.fit(X_train, y_train)"
   ]
  },
  {
   "cell_type": "code",
   "execution_count": 154,
   "metadata": {},
   "outputs": [
    {
     "name": "stderr",
     "output_type": "stream",
     "text": [
      "/opt/conda/lib/python3.6/site-packages/sklearn/utils/deprecation.py:122: FutureWarning: You are accessing a training score ('mean_train_score'), which will not be available by default any more in 0.21. If you need training scores, please set return_train_score=True\n",
      "  warnings.warn(*warn_args, **warn_kwargs)\n",
      "/opt/conda/lib/python3.6/site-packages/sklearn/utils/deprecation.py:122: FutureWarning: You are accessing a training score ('split0_train_score'), which will not be available by default any more in 0.21. If you need training scores, please set return_train_score=True\n",
      "  warnings.warn(*warn_args, **warn_kwargs)\n",
      "/opt/conda/lib/python3.6/site-packages/sklearn/utils/deprecation.py:122: FutureWarning: You are accessing a training score ('split1_train_score'), which will not be available by default any more in 0.21. If you need training scores, please set return_train_score=True\n",
      "  warnings.warn(*warn_args, **warn_kwargs)\n",
      "/opt/conda/lib/python3.6/site-packages/sklearn/utils/deprecation.py:122: FutureWarning: You are accessing a training score ('split2_train_score'), which will not be available by default any more in 0.21. If you need training scores, please set return_train_score=True\n",
      "  warnings.warn(*warn_args, **warn_kwargs)\n",
      "/opt/conda/lib/python3.6/site-packages/sklearn/utils/deprecation.py:122: FutureWarning: You are accessing a training score ('split3_train_score'), which will not be available by default any more in 0.21. If you need training scores, please set return_train_score=True\n",
      "  warnings.warn(*warn_args, **warn_kwargs)\n",
      "/opt/conda/lib/python3.6/site-packages/sklearn/utils/deprecation.py:122: FutureWarning: You are accessing a training score ('split4_train_score'), which will not be available by default any more in 0.21. If you need training scores, please set return_train_score=True\n",
      "  warnings.warn(*warn_args, **warn_kwargs)\n",
      "/opt/conda/lib/python3.6/site-packages/sklearn/utils/deprecation.py:122: FutureWarning: You are accessing a training score ('std_train_score'), which will not be available by default any more in 0.21. If you need training scores, please set return_train_score=True\n",
      "  warnings.warn(*warn_args, **warn_kwargs)\n"
     ]
    },
    {
     "data": {
      "text/html": [
       "<div>\n",
       "<table border=\"1\" class=\"dataframe\">\n",
       "  <thead>\n",
       "    <tr style=\"text-align: right;\">\n",
       "      <th></th>\n",
       "      <th>11</th>\n",
       "      <th>10</th>\n",
       "      <th>9</th>\n",
       "      <th>8</th>\n",
       "      <th>7</th>\n",
       "      <th>6</th>\n",
       "      <th>5</th>\n",
       "      <th>4</th>\n",
       "      <th>3</th>\n",
       "      <th>2</th>\n",
       "      <th>1</th>\n",
       "      <th>0</th>\n",
       "    </tr>\n",
       "  </thead>\n",
       "  <tbody>\n",
       "    <tr>\n",
       "      <th>mean_fit_time</th>\n",
       "      <td>1.00428</td>\n",
       "      <td>1.00214</td>\n",
       "      <td>1.02772</td>\n",
       "      <td>1.00949</td>\n",
       "      <td>1.01075</td>\n",
       "      <td>1.0156</td>\n",
       "      <td>1.01919</td>\n",
       "      <td>1.01545</td>\n",
       "      <td>1.01082</td>\n",
       "      <td>1.01441</td>\n",
       "      <td>1.02785</td>\n",
       "      <td>1.02867</td>\n",
       "    </tr>\n",
       "    <tr>\n",
       "      <th>mean_score_time</th>\n",
       "      <td>0.00238948</td>\n",
       "      <td>0.00233293</td>\n",
       "      <td>0.00240369</td>\n",
       "      <td>0.00238276</td>\n",
       "      <td>0.00240908</td>\n",
       "      <td>0.00237293</td>\n",
       "      <td>0.0023828</td>\n",
       "      <td>0.00250034</td>\n",
       "      <td>0.00234795</td>\n",
       "      <td>0.00232668</td>\n",
       "      <td>0.00236807</td>\n",
       "      <td>0.002386</td>\n",
       "    </tr>\n",
       "    <tr>\n",
       "      <th>mean_test_score</th>\n",
       "      <td>0.903947</td>\n",
       "      <td>0.902357</td>\n",
       "      <td>0.89802</td>\n",
       "      <td>0.892183</td>\n",
       "      <td>0.886826</td>\n",
       "      <td>0.880353</td>\n",
       "      <td>0.872563</td>\n",
       "      <td>0.861411</td>\n",
       "      <td>0.846754</td>\n",
       "      <td>0.830409</td>\n",
       "      <td>0.814176</td>\n",
       "      <td>0.797854</td>\n",
       "    </tr>\n",
       "    <tr>\n",
       "      <th>mean_train_score</th>\n",
       "      <td>0.999986</td>\n",
       "      <td>0.99999</td>\n",
       "      <td>0.999993</td>\n",
       "      <td>0.999995</td>\n",
       "      <td>0.999997</td>\n",
       "      <td>0.999998</td>\n",
       "      <td>0.999999</td>\n",
       "      <td>0.999999</td>\n",
       "      <td>0.999999</td>\n",
       "      <td>1</td>\n",
       "      <td>1</td>\n",
       "      <td>1</td>\n",
       "    </tr>\n",
       "    <tr>\n",
       "      <th>param_regr__alpha</th>\n",
       "      <td>10</td>\n",
       "      <td>8.28289</td>\n",
       "      <td>6.86062</td>\n",
       "      <td>5.68258</td>\n",
       "      <td>4.70682</td>\n",
       "      <td>3.8986</td>\n",
       "      <td>3.22917</td>\n",
       "      <td>2.67469</td>\n",
       "      <td>2.21541</td>\n",
       "      <td>1.835</td>\n",
       "      <td>1.51991</td>\n",
       "      <td>1.25893</td>\n",
       "    </tr>\n",
       "    <tr>\n",
       "      <th>params</th>\n",
       "      <td>{'regr__alpha': 10.0}</td>\n",
       "      <td>{'regr__alpha': 8.28288855785}</td>\n",
       "      <td>{'regr__alpha': 6.86062428618}</td>\n",
       "      <td>{'regr__alpha': 5.68257863997}</td>\n",
       "      <td>{'regr__alpha': 4.70681655961}</td>\n",
       "      <td>{'regr__alpha': 3.89860370255}</td>\n",
       "      <td>{'regr__alpha': 3.22916999994}</td>\n",
       "      <td>{'regr__alpha': 2.67468552439}</td>\n",
       "      <td>{'regr__alpha': 2.21541221258}</td>\n",
       "      <td>{'regr__alpha': 1.83500124665}</td>\n",
       "      <td>{'regr__alpha': 1.51991108295}</td>\n",
       "      <td>{'regr__alpha': 1.25892541179}</td>\n",
       "    </tr>\n",
       "    <tr>\n",
       "      <th>rank_test_score</th>\n",
       "      <td>1</td>\n",
       "      <td>2</td>\n",
       "      <td>3</td>\n",
       "      <td>4</td>\n",
       "      <td>5</td>\n",
       "      <td>6</td>\n",
       "      <td>7</td>\n",
       "      <td>8</td>\n",
       "      <td>9</td>\n",
       "      <td>10</td>\n",
       "      <td>11</td>\n",
       "      <td>12</td>\n",
       "    </tr>\n",
       "    <tr>\n",
       "      <th>split0_test_score</th>\n",
       "      <td>0.931186</td>\n",
       "      <td>0.933903</td>\n",
       "      <td>0.931516</td>\n",
       "      <td>0.927799</td>\n",
       "      <td>0.924797</td>\n",
       "      <td>0.921915</td>\n",
       "      <td>0.91835</td>\n",
       "      <td>0.911784</td>\n",
       "      <td>0.905855</td>\n",
       "      <td>0.89828</td>\n",
       "      <td>0.888894</td>\n",
       "      <td>0.876694</td>\n",
       "    </tr>\n",
       "    <tr>\n",
       "      <th>split0_train_score</th>\n",
       "      <td>0.999986</td>\n",
       "      <td>0.99999</td>\n",
       "      <td>0.999993</td>\n",
       "      <td>0.999995</td>\n",
       "      <td>0.999997</td>\n",
       "      <td>0.999998</td>\n",
       "      <td>0.999998</td>\n",
       "      <td>0.999999</td>\n",
       "      <td>0.999999</td>\n",
       "      <td>1</td>\n",
       "      <td>1</td>\n",
       "      <td>1</td>\n",
       "    </tr>\n",
       "    <tr>\n",
       "      <th>split1_test_score</th>\n",
       "      <td>0.900628</td>\n",
       "      <td>0.905729</td>\n",
       "      <td>0.905687</td>\n",
       "      <td>0.906159</td>\n",
       "      <td>0.906278</td>\n",
       "      <td>0.903017</td>\n",
       "      <td>0.898668</td>\n",
       "      <td>0.890603</td>\n",
       "      <td>0.881496</td>\n",
       "      <td>0.870399</td>\n",
       "      <td>0.86061</td>\n",
       "      <td>0.84902</td>\n",
       "    </tr>\n",
       "    <tr>\n",
       "      <th>split1_train_score</th>\n",
       "      <td>0.999986</td>\n",
       "      <td>0.999991</td>\n",
       "      <td>0.999993</td>\n",
       "      <td>0.999995</td>\n",
       "      <td>0.999997</td>\n",
       "      <td>0.999998</td>\n",
       "      <td>0.999999</td>\n",
       "      <td>0.999999</td>\n",
       "      <td>0.999999</td>\n",
       "      <td>1</td>\n",
       "      <td>1</td>\n",
       "      <td>1</td>\n",
       "    </tr>\n",
       "    <tr>\n",
       "      <th>split2_test_score</th>\n",
       "      <td>0.920873</td>\n",
       "      <td>0.91615</td>\n",
       "      <td>0.913644</td>\n",
       "      <td>0.908323</td>\n",
       "      <td>0.901454</td>\n",
       "      <td>0.892153</td>\n",
       "      <td>0.879577</td>\n",
       "      <td>0.862879</td>\n",
       "      <td>0.835081</td>\n",
       "      <td>0.80371</td>\n",
       "      <td>0.7733</td>\n",
       "      <td>0.745862</td>\n",
       "    </tr>\n",
       "    <tr>\n",
       "      <th>split2_train_score</th>\n",
       "      <td>0.999986</td>\n",
       "      <td>0.999991</td>\n",
       "      <td>0.999994</td>\n",
       "      <td>0.999996</td>\n",
       "      <td>0.999997</td>\n",
       "      <td>0.999998</td>\n",
       "      <td>0.999999</td>\n",
       "      <td>0.999999</td>\n",
       "      <td>0.999999</td>\n",
       "      <td>1</td>\n",
       "      <td>1</td>\n",
       "      <td>1</td>\n",
       "    </tr>\n",
       "    <tr>\n",
       "      <th>split3_test_score</th>\n",
       "      <td>0.875959</td>\n",
       "      <td>0.885211</td>\n",
       "      <td>0.887367</td>\n",
       "      <td>0.888634</td>\n",
       "      <td>0.886773</td>\n",
       "      <td>0.880065</td>\n",
       "      <td>0.872383</td>\n",
       "      <td>0.864294</td>\n",
       "      <td>0.856469</td>\n",
       "      <td>0.848162</td>\n",
       "      <td>0.841179</td>\n",
       "      <td>0.834022</td>\n",
       "    </tr>\n",
       "    <tr>\n",
       "      <th>split3_train_score</th>\n",
       "      <td>0.999985</td>\n",
       "      <td>0.999989</td>\n",
       "      <td>0.999993</td>\n",
       "      <td>0.999995</td>\n",
       "      <td>0.999996</td>\n",
       "      <td>0.999998</td>\n",
       "      <td>0.999998</td>\n",
       "      <td>0.999999</td>\n",
       "      <td>0.999999</td>\n",
       "      <td>1</td>\n",
       "      <td>1</td>\n",
       "      <td>1</td>\n",
       "    </tr>\n",
       "    <tr>\n",
       "      <th>split4_test_score</th>\n",
       "      <td>0.891089</td>\n",
       "      <td>0.87079</td>\n",
       "      <td>0.851887</td>\n",
       "      <td>0.829999</td>\n",
       "      <td>0.814828</td>\n",
       "      <td>0.804614</td>\n",
       "      <td>0.793835</td>\n",
       "      <td>0.777498</td>\n",
       "      <td>0.75487</td>\n",
       "      <td>0.731495</td>\n",
       "      <td>0.706894</td>\n",
       "      <td>0.683672</td>\n",
       "    </tr>\n",
       "    <tr>\n",
       "      <th>split4_train_score</th>\n",
       "      <td>0.999986</td>\n",
       "      <td>0.99999</td>\n",
       "      <td>0.999993</td>\n",
       "      <td>0.999995</td>\n",
       "      <td>0.999997</td>\n",
       "      <td>0.999998</td>\n",
       "      <td>0.999999</td>\n",
       "      <td>0.999999</td>\n",
       "      <td>0.999999</td>\n",
       "      <td>1</td>\n",
       "      <td>1</td>\n",
       "      <td>1</td>\n",
       "    </tr>\n",
       "    <tr>\n",
       "      <th>std_fit_time</th>\n",
       "      <td>0.00185419</td>\n",
       "      <td>0.00512631</td>\n",
       "      <td>0.0360598</td>\n",
       "      <td>0.00435785</td>\n",
       "      <td>0.00107239</td>\n",
       "      <td>0.00535726</td>\n",
       "      <td>0.00445121</td>\n",
       "      <td>0.00207221</td>\n",
       "      <td>0.00328644</td>\n",
       "      <td>0.0057388</td>\n",
       "      <td>0.0028555</td>\n",
       "      <td>0.00325767</td>\n",
       "    </tr>\n",
       "    <tr>\n",
       "      <th>std_score_time</th>\n",
       "      <td>1.26953e-05</td>\n",
       "      <td>5.96386e-05</td>\n",
       "      <td>1.49201e-05</td>\n",
       "      <td>2.44525e-05</td>\n",
       "      <td>5.48766e-05</td>\n",
       "      <td>4.43631e-05</td>\n",
       "      <td>2.68948e-05</td>\n",
       "      <td>0.000191882</td>\n",
       "      <td>2.02558e-05</td>\n",
       "      <td>3.65185e-05</td>\n",
       "      <td>2.22574e-05</td>\n",
       "      <td>1.74209e-05</td>\n",
       "    </tr>\n",
       "    <tr>\n",
       "      <th>std_test_score</th>\n",
       "      <td>0.0199406</td>\n",
       "      <td>0.0223037</td>\n",
       "      <td>0.02708</td>\n",
       "      <td>0.0334778</td>\n",
       "      <td>0.0379943</td>\n",
       "      <td>0.0402907</td>\n",
       "      <td>0.0424859</td>\n",
       "      <td>0.0456979</td>\n",
       "      <td>0.051717</td>\n",
       "      <td>0.05834</td>\n",
       "      <td>0.0658004</td>\n",
       "      <td>0.071948</td>\n",
       "    </tr>\n",
       "    <tr>\n",
       "      <th>std_train_score</th>\n",
       "      <td>5.26424e-07</td>\n",
       "      <td>4.29506e-07</td>\n",
       "      <td>2.36456e-07</td>\n",
       "      <td>2.40049e-07</td>\n",
       "      <td>1.9633e-07</td>\n",
       "      <td>8.90651e-08</td>\n",
       "      <td>6.78012e-08</td>\n",
       "      <td>3.94244e-08</td>\n",
       "      <td>2.79401e-08</td>\n",
       "      <td>1.94204e-08</td>\n",
       "      <td>1.28775e-08</td>\n",
       "      <td>9.42038e-09</td>\n",
       "    </tr>\n",
       "  </tbody>\n",
       "</table>\n",
       "</div>"
      ],
      "text/plain": [
       "                                       11                              10  \\\n",
       "mean_fit_time                     1.00428                         1.00214   \n",
       "mean_score_time                0.00238948                      0.00233293   \n",
       "mean_test_score                  0.903947                        0.902357   \n",
       "mean_train_score                 0.999986                         0.99999   \n",
       "param_regr__alpha                      10                         8.28289   \n",
       "params              {'regr__alpha': 10.0}  {'regr__alpha': 8.28288855785}   \n",
       "rank_test_score                         1                               2   \n",
       "split0_test_score                0.931186                        0.933903   \n",
       "split0_train_score               0.999986                         0.99999   \n",
       "split1_test_score                0.900628                        0.905729   \n",
       "split1_train_score               0.999986                        0.999991   \n",
       "split2_test_score                0.920873                         0.91615   \n",
       "split2_train_score               0.999986                        0.999991   \n",
       "split3_test_score                0.875959                        0.885211   \n",
       "split3_train_score               0.999985                        0.999989   \n",
       "split4_test_score                0.891089                         0.87079   \n",
       "split4_train_score               0.999986                         0.99999   \n",
       "std_fit_time                   0.00185419                      0.00512631   \n",
       "std_score_time                1.26953e-05                     5.96386e-05   \n",
       "std_test_score                  0.0199406                       0.0223037   \n",
       "std_train_score               5.26424e-07                     4.29506e-07   \n",
       "\n",
       "                                                9   \\\n",
       "mean_fit_time                              1.02772   \n",
       "mean_score_time                         0.00240369   \n",
       "mean_test_score                            0.89802   \n",
       "mean_train_score                          0.999993   \n",
       "param_regr__alpha                          6.86062   \n",
       "params              {'regr__alpha': 6.86062428618}   \n",
       "rank_test_score                                  3   \n",
       "split0_test_score                         0.931516   \n",
       "split0_train_score                        0.999993   \n",
       "split1_test_score                         0.905687   \n",
       "split1_train_score                        0.999993   \n",
       "split2_test_score                         0.913644   \n",
       "split2_train_score                        0.999994   \n",
       "split3_test_score                         0.887367   \n",
       "split3_train_score                        0.999993   \n",
       "split4_test_score                         0.851887   \n",
       "split4_train_score                        0.999993   \n",
       "std_fit_time                             0.0360598   \n",
       "std_score_time                         1.49201e-05   \n",
       "std_test_score                             0.02708   \n",
       "std_train_score                        2.36456e-07   \n",
       "\n",
       "                                                8   \\\n",
       "mean_fit_time                              1.00949   \n",
       "mean_score_time                         0.00238276   \n",
       "mean_test_score                           0.892183   \n",
       "mean_train_score                          0.999995   \n",
       "param_regr__alpha                          5.68258   \n",
       "params              {'regr__alpha': 5.68257863997}   \n",
       "rank_test_score                                  4   \n",
       "split0_test_score                         0.927799   \n",
       "split0_train_score                        0.999995   \n",
       "split1_test_score                         0.906159   \n",
       "split1_train_score                        0.999995   \n",
       "split2_test_score                         0.908323   \n",
       "split2_train_score                        0.999996   \n",
       "split3_test_score                         0.888634   \n",
       "split3_train_score                        0.999995   \n",
       "split4_test_score                         0.829999   \n",
       "split4_train_score                        0.999995   \n",
       "std_fit_time                            0.00435785   \n",
       "std_score_time                         2.44525e-05   \n",
       "std_test_score                           0.0334778   \n",
       "std_train_score                        2.40049e-07   \n",
       "\n",
       "                                                7   \\\n",
       "mean_fit_time                              1.01075   \n",
       "mean_score_time                         0.00240908   \n",
       "mean_test_score                           0.886826   \n",
       "mean_train_score                          0.999997   \n",
       "param_regr__alpha                          4.70682   \n",
       "params              {'regr__alpha': 4.70681655961}   \n",
       "rank_test_score                                  5   \n",
       "split0_test_score                         0.924797   \n",
       "split0_train_score                        0.999997   \n",
       "split1_test_score                         0.906278   \n",
       "split1_train_score                        0.999997   \n",
       "split2_test_score                         0.901454   \n",
       "split2_train_score                        0.999997   \n",
       "split3_test_score                         0.886773   \n",
       "split3_train_score                        0.999996   \n",
       "split4_test_score                         0.814828   \n",
       "split4_train_score                        0.999997   \n",
       "std_fit_time                            0.00107239   \n",
       "std_score_time                         5.48766e-05   \n",
       "std_test_score                           0.0379943   \n",
       "std_train_score                         1.9633e-07   \n",
       "\n",
       "                                                6   \\\n",
       "mean_fit_time                               1.0156   \n",
       "mean_score_time                         0.00237293   \n",
       "mean_test_score                           0.880353   \n",
       "mean_train_score                          0.999998   \n",
       "param_regr__alpha                           3.8986   \n",
       "params              {'regr__alpha': 3.89860370255}   \n",
       "rank_test_score                                  6   \n",
       "split0_test_score                         0.921915   \n",
       "split0_train_score                        0.999998   \n",
       "split1_test_score                         0.903017   \n",
       "split1_train_score                        0.999998   \n",
       "split2_test_score                         0.892153   \n",
       "split2_train_score                        0.999998   \n",
       "split3_test_score                         0.880065   \n",
       "split3_train_score                        0.999998   \n",
       "split4_test_score                         0.804614   \n",
       "split4_train_score                        0.999998   \n",
       "std_fit_time                            0.00535726   \n",
       "std_score_time                         4.43631e-05   \n",
       "std_test_score                           0.0402907   \n",
       "std_train_score                        8.90651e-08   \n",
       "\n",
       "                                                5   \\\n",
       "mean_fit_time                              1.01919   \n",
       "mean_score_time                          0.0023828   \n",
       "mean_test_score                           0.872563   \n",
       "mean_train_score                          0.999999   \n",
       "param_regr__alpha                          3.22917   \n",
       "params              {'regr__alpha': 3.22916999994}   \n",
       "rank_test_score                                  7   \n",
       "split0_test_score                          0.91835   \n",
       "split0_train_score                        0.999998   \n",
       "split1_test_score                         0.898668   \n",
       "split1_train_score                        0.999999   \n",
       "split2_test_score                         0.879577   \n",
       "split2_train_score                        0.999999   \n",
       "split3_test_score                         0.872383   \n",
       "split3_train_score                        0.999998   \n",
       "split4_test_score                         0.793835   \n",
       "split4_train_score                        0.999999   \n",
       "std_fit_time                            0.00445121   \n",
       "std_score_time                         2.68948e-05   \n",
       "std_test_score                           0.0424859   \n",
       "std_train_score                        6.78012e-08   \n",
       "\n",
       "                                                4   \\\n",
       "mean_fit_time                              1.01545   \n",
       "mean_score_time                         0.00250034   \n",
       "mean_test_score                           0.861411   \n",
       "mean_train_score                          0.999999   \n",
       "param_regr__alpha                          2.67469   \n",
       "params              {'regr__alpha': 2.67468552439}   \n",
       "rank_test_score                                  8   \n",
       "split0_test_score                         0.911784   \n",
       "split0_train_score                        0.999999   \n",
       "split1_test_score                         0.890603   \n",
       "split1_train_score                        0.999999   \n",
       "split2_test_score                         0.862879   \n",
       "split2_train_score                        0.999999   \n",
       "split3_test_score                         0.864294   \n",
       "split3_train_score                        0.999999   \n",
       "split4_test_score                         0.777498   \n",
       "split4_train_score                        0.999999   \n",
       "std_fit_time                            0.00207221   \n",
       "std_score_time                         0.000191882   \n",
       "std_test_score                           0.0456979   \n",
       "std_train_score                        3.94244e-08   \n",
       "\n",
       "                                                3   \\\n",
       "mean_fit_time                              1.01082   \n",
       "mean_score_time                         0.00234795   \n",
       "mean_test_score                           0.846754   \n",
       "mean_train_score                          0.999999   \n",
       "param_regr__alpha                          2.21541   \n",
       "params              {'regr__alpha': 2.21541221258}   \n",
       "rank_test_score                                  9   \n",
       "split0_test_score                         0.905855   \n",
       "split0_train_score                        0.999999   \n",
       "split1_test_score                         0.881496   \n",
       "split1_train_score                        0.999999   \n",
       "split2_test_score                         0.835081   \n",
       "split2_train_score                        0.999999   \n",
       "split3_test_score                         0.856469   \n",
       "split3_train_score                        0.999999   \n",
       "split4_test_score                          0.75487   \n",
       "split4_train_score                        0.999999   \n",
       "std_fit_time                            0.00328644   \n",
       "std_score_time                         2.02558e-05   \n",
       "std_test_score                            0.051717   \n",
       "std_train_score                        2.79401e-08   \n",
       "\n",
       "                                                2   \\\n",
       "mean_fit_time                              1.01441   \n",
       "mean_score_time                         0.00232668   \n",
       "mean_test_score                           0.830409   \n",
       "mean_train_score                                 1   \n",
       "param_regr__alpha                            1.835   \n",
       "params              {'regr__alpha': 1.83500124665}   \n",
       "rank_test_score                                 10   \n",
       "split0_test_score                          0.89828   \n",
       "split0_train_score                               1   \n",
       "split1_test_score                         0.870399   \n",
       "split1_train_score                               1   \n",
       "split2_test_score                          0.80371   \n",
       "split2_train_score                               1   \n",
       "split3_test_score                         0.848162   \n",
       "split3_train_score                               1   \n",
       "split4_test_score                         0.731495   \n",
       "split4_train_score                               1   \n",
       "std_fit_time                             0.0057388   \n",
       "std_score_time                         3.65185e-05   \n",
       "std_test_score                             0.05834   \n",
       "std_train_score                        1.94204e-08   \n",
       "\n",
       "                                                1   \\\n",
       "mean_fit_time                              1.02785   \n",
       "mean_score_time                         0.00236807   \n",
       "mean_test_score                           0.814176   \n",
       "mean_train_score                                 1   \n",
       "param_regr__alpha                          1.51991   \n",
       "params              {'regr__alpha': 1.51991108295}   \n",
       "rank_test_score                                 11   \n",
       "split0_test_score                         0.888894   \n",
       "split0_train_score                               1   \n",
       "split1_test_score                          0.86061   \n",
       "split1_train_score                               1   \n",
       "split2_test_score                           0.7733   \n",
       "split2_train_score                               1   \n",
       "split3_test_score                         0.841179   \n",
       "split3_train_score                               1   \n",
       "split4_test_score                         0.706894   \n",
       "split4_train_score                               1   \n",
       "std_fit_time                             0.0028555   \n",
       "std_score_time                         2.22574e-05   \n",
       "std_test_score                           0.0658004   \n",
       "std_train_score                        1.28775e-08   \n",
       "\n",
       "                                                0   \n",
       "mean_fit_time                              1.02867  \n",
       "mean_score_time                           0.002386  \n",
       "mean_test_score                           0.797854  \n",
       "mean_train_score                                 1  \n",
       "param_regr__alpha                          1.25893  \n",
       "params              {'regr__alpha': 1.25892541179}  \n",
       "rank_test_score                                 12  \n",
       "split0_test_score                         0.876694  \n",
       "split0_train_score                               1  \n",
       "split1_test_score                          0.84902  \n",
       "split1_train_score                               1  \n",
       "split2_test_score                         0.745862  \n",
       "split2_train_score                               1  \n",
       "split3_test_score                         0.834022  \n",
       "split3_train_score                               1  \n",
       "split4_test_score                         0.683672  \n",
       "split4_train_score                               1  \n",
       "std_fit_time                            0.00325767  \n",
       "std_score_time                         1.74209e-05  \n",
       "std_test_score                            0.071948  \n",
       "std_train_score                        9.42038e-09  "
      ]
     },
     "execution_count": 154,
     "metadata": {},
     "output_type": "execute_result"
    }
   ],
   "source": [
    "gspipe_lasso_results = pd.DataFrame(gspipe_lasso.cv_results_)\n",
    "\n",
    "gspipe_lasso_results.sort_values('rank_test_score', ascending=True).T"
   ]
  },
  {
   "cell_type": "code",
   "execution_count": 155,
   "metadata": {},
   "outputs": [
    {
     "data": {
      "text/plain": [
       "Pipeline(memory=None,\n",
       "     steps=[('scaler', StandardScaler(copy=True, with_mean=True, with_std=True)), ('regr', Lasso(alpha=10.0, copy_X=True, fit_intercept=True, max_iter=1000,\n",
       "   normalize=False, positive=False, precompute=False, random_state=None,\n",
       "   selection='cyclic', tol=0.0001, warm_start=False))])"
      ]
     },
     "execution_count": 155,
     "metadata": {},
     "output_type": "execute_result"
    }
   ],
   "source": [
    "gspipe_lasso.best_estimator_\n"
   ]
  },
  {
   "cell_type": "code",
   "execution_count": 156,
   "metadata": {},
   "outputs": [
    {
     "data": {
      "text/plain": [
       "0.90394694537316544"
      ]
     },
     "execution_count": 156,
     "metadata": {},
     "output_type": "execute_result"
    }
   ],
   "source": [
    "gspipe_lasso.best_score_"
   ]
  },
  {
   "cell_type": "code",
   "execution_count": 157,
   "metadata": {},
   "outputs": [
    {
     "data": {
      "text/plain": [
       "array([ 123261.99686462,  169198.58830975,  213486.5276531 , ...,\n",
       "        180317.64283686,  123066.43768807,  237634.68994613])"
      ]
     },
     "execution_count": 157,
     "metadata": {},
     "output_type": "execute_result"
    }
   ],
   "source": [
    "predict_gspipe_lasso = gspipe_lasso.predict(features_dummies_test)\n",
    "predict_gspipe_lasso"
   ]
  },
  {
   "cell_type": "markdown",
   "metadata": {},
   "source": [
    "# GridSearchCV KNN"
   ]
  },
  {
   "cell_type": "code",
   "execution_count": 159,
   "metadata": {},
   "outputs": [],
   "source": [
    "pipe_for_gs_KNN = Pipeline([\n",
    "    ('scaler', StandardScaler()),\n",
    "    ('regr', KNeighborsRegressor())\n",
    "])"
   ]
  },
  {
   "cell_type": "code",
   "execution_count": 162,
   "metadata": {},
   "outputs": [],
   "source": [
    "KNN_param_grid = {'regr__n_neighbors': range(1,10)}"
   ]
  },
  {
   "cell_type": "code",
   "execution_count": 163,
   "metadata": {},
   "outputs": [],
   "source": [
    "gspipe_KNN = GridSearchCV(pipe_for_gs_KNN,\n",
    "                      param_grid=KNN_param_grid,\n",
    "                      n_jobs=-1,\n",
    "                      cv=ShuffleSplit(n_splits=5, random_state=42))"
   ]
  },
  {
   "cell_type": "code",
   "execution_count": 164,
   "metadata": {},
   "outputs": [
    {
     "data": {
      "text/plain": [
       "GridSearchCV(cv=ShuffleSplit(n_splits=5, random_state=42, test_size='default',\n",
       "       train_size=None),\n",
       "       error_score='raise',\n",
       "       estimator=Pipeline(memory=None,\n",
       "     steps=[('scaler', StandardScaler(copy=True, with_mean=True, with_std=True)), ('regr', KNeighborsRegressor(algorithm='auto', leaf_size=30, metric='minkowski',\n",
       "          metric_params=None, n_jobs=1, n_neighbors=5, p=2,\n",
       "          weights='uniform'))]),\n",
       "       fit_params=None, iid=True, n_jobs=-1,\n",
       "       param_grid={'regr__n_neighbors': range(1, 10)},\n",
       "       pre_dispatch='2*n_jobs', refit=True, return_train_score='warn',\n",
       "       scoring=None, verbose=0)"
      ]
     },
     "execution_count": 164,
     "metadata": {},
     "output_type": "execute_result"
    }
   ],
   "source": [
    "gspipe_KNN.fit(X_train, y_train)"
   ]
  },
  {
   "cell_type": "code",
   "execution_count": 165,
   "metadata": {},
   "outputs": [
    {
     "name": "stderr",
     "output_type": "stream",
     "text": [
      "/opt/conda/lib/python3.6/site-packages/sklearn/utils/deprecation.py:122: FutureWarning: You are accessing a training score ('mean_train_score'), which will not be available by default any more in 0.21. If you need training scores, please set return_train_score=True\n",
      "  warnings.warn(*warn_args, **warn_kwargs)\n",
      "/opt/conda/lib/python3.6/site-packages/sklearn/utils/deprecation.py:122: FutureWarning: You are accessing a training score ('split0_train_score'), which will not be available by default any more in 0.21. If you need training scores, please set return_train_score=True\n",
      "  warnings.warn(*warn_args, **warn_kwargs)\n",
      "/opt/conda/lib/python3.6/site-packages/sklearn/utils/deprecation.py:122: FutureWarning: You are accessing a training score ('split1_train_score'), which will not be available by default any more in 0.21. If you need training scores, please set return_train_score=True\n",
      "  warnings.warn(*warn_args, **warn_kwargs)\n",
      "/opt/conda/lib/python3.6/site-packages/sklearn/utils/deprecation.py:122: FutureWarning: You are accessing a training score ('split2_train_score'), which will not be available by default any more in 0.21. If you need training scores, please set return_train_score=True\n",
      "  warnings.warn(*warn_args, **warn_kwargs)\n",
      "/opt/conda/lib/python3.6/site-packages/sklearn/utils/deprecation.py:122: FutureWarning: You are accessing a training score ('split3_train_score'), which will not be available by default any more in 0.21. If you need training scores, please set return_train_score=True\n",
      "  warnings.warn(*warn_args, **warn_kwargs)\n",
      "/opt/conda/lib/python3.6/site-packages/sklearn/utils/deprecation.py:122: FutureWarning: You are accessing a training score ('split4_train_score'), which will not be available by default any more in 0.21. If you need training scores, please set return_train_score=True\n",
      "  warnings.warn(*warn_args, **warn_kwargs)\n",
      "/opt/conda/lib/python3.6/site-packages/sklearn/utils/deprecation.py:122: FutureWarning: You are accessing a training score ('std_train_score'), which will not be available by default any more in 0.21. If you need training scores, please set return_train_score=True\n",
      "  warnings.warn(*warn_args, **warn_kwargs)\n"
     ]
    },
    {
     "data": {
      "text/html": [
       "<div>\n",
       "<table border=\"1\" class=\"dataframe\">\n",
       "  <thead>\n",
       "    <tr style=\"text-align: right;\">\n",
       "      <th></th>\n",
       "      <th>7</th>\n",
       "      <th>6</th>\n",
       "      <th>8</th>\n",
       "      <th>5</th>\n",
       "      <th>4</th>\n",
       "      <th>3</th>\n",
       "      <th>2</th>\n",
       "      <th>1</th>\n",
       "      <th>0</th>\n",
       "    </tr>\n",
       "  </thead>\n",
       "  <tbody>\n",
       "    <tr>\n",
       "      <th>mean_fit_time</th>\n",
       "      <td>0.0937111</td>\n",
       "      <td>0.094352</td>\n",
       "      <td>0.092984</td>\n",
       "      <td>0.0942749</td>\n",
       "      <td>0.0939511</td>\n",
       "      <td>0.0930965</td>\n",
       "      <td>0.0938268</td>\n",
       "      <td>0.0931142</td>\n",
       "      <td>0.0945375</td>\n",
       "    </tr>\n",
       "    <tr>\n",
       "      <th>mean_score_time</th>\n",
       "      <td>0.355213</td>\n",
       "      <td>0.360437</td>\n",
       "      <td>0.359182</td>\n",
       "      <td>0.355823</td>\n",
       "      <td>0.356504</td>\n",
       "      <td>0.35742</td>\n",
       "      <td>0.358679</td>\n",
       "      <td>0.357589</td>\n",
       "      <td>0.357767</td>\n",
       "    </tr>\n",
       "    <tr>\n",
       "      <th>mean_test_score</th>\n",
       "      <td>0.713966</td>\n",
       "      <td>0.7121</td>\n",
       "      <td>0.71005</td>\n",
       "      <td>0.705552</td>\n",
       "      <td>0.698119</td>\n",
       "      <td>0.688774</td>\n",
       "      <td>0.677347</td>\n",
       "      <td>0.584132</td>\n",
       "      <td>-0.00680695</td>\n",
       "    </tr>\n",
       "    <tr>\n",
       "      <th>mean_train_score</th>\n",
       "      <td>0.794208</td>\n",
       "      <td>0.800069</td>\n",
       "      <td>0.788053</td>\n",
       "      <td>0.803596</td>\n",
       "      <td>0.81048</td>\n",
       "      <td>0.816314</td>\n",
       "      <td>0.809952</td>\n",
       "      <td>0.764595</td>\n",
       "      <td>1</td>\n",
       "    </tr>\n",
       "    <tr>\n",
       "      <th>param_regr__n_neighbors</th>\n",
       "      <td>8</td>\n",
       "      <td>7</td>\n",
       "      <td>9</td>\n",
       "      <td>6</td>\n",
       "      <td>5</td>\n",
       "      <td>4</td>\n",
       "      <td>3</td>\n",
       "      <td>2</td>\n",
       "      <td>1</td>\n",
       "    </tr>\n",
       "    <tr>\n",
       "      <th>params</th>\n",
       "      <td>{'regr__n_neighbors': 8}</td>\n",
       "      <td>{'regr__n_neighbors': 7}</td>\n",
       "      <td>{'regr__n_neighbors': 9}</td>\n",
       "      <td>{'regr__n_neighbors': 6}</td>\n",
       "      <td>{'regr__n_neighbors': 5}</td>\n",
       "      <td>{'regr__n_neighbors': 4}</td>\n",
       "      <td>{'regr__n_neighbors': 3}</td>\n",
       "      <td>{'regr__n_neighbors': 2}</td>\n",
       "      <td>{'regr__n_neighbors': 1}</td>\n",
       "    </tr>\n",
       "    <tr>\n",
       "      <th>rank_test_score</th>\n",
       "      <td>1</td>\n",
       "      <td>2</td>\n",
       "      <td>3</td>\n",
       "      <td>4</td>\n",
       "      <td>5</td>\n",
       "      <td>6</td>\n",
       "      <td>7</td>\n",
       "      <td>8</td>\n",
       "      <td>9</td>\n",
       "    </tr>\n",
       "    <tr>\n",
       "      <th>split0_test_score</th>\n",
       "      <td>0.717779</td>\n",
       "      <td>0.713166</td>\n",
       "      <td>0.718553</td>\n",
       "      <td>0.709505</td>\n",
       "      <td>0.693093</td>\n",
       "      <td>0.686425</td>\n",
       "      <td>0.704395</td>\n",
       "      <td>0.603642</td>\n",
       "      <td>-0.0272556</td>\n",
       "    </tr>\n",
       "    <tr>\n",
       "      <th>split0_train_score</th>\n",
       "      <td>0.784902</td>\n",
       "      <td>0.788928</td>\n",
       "      <td>0.77948</td>\n",
       "      <td>0.797509</td>\n",
       "      <td>0.799047</td>\n",
       "      <td>0.801152</td>\n",
       "      <td>0.786115</td>\n",
       "      <td>0.721273</td>\n",
       "      <td>1</td>\n",
       "    </tr>\n",
       "    <tr>\n",
       "      <th>split1_test_score</th>\n",
       "      <td>0.675072</td>\n",
       "      <td>0.676926</td>\n",
       "      <td>0.685223</td>\n",
       "      <td>0.691943</td>\n",
       "      <td>0.697127</td>\n",
       "      <td>0.69427</td>\n",
       "      <td>0.702924</td>\n",
       "      <td>0.633602</td>\n",
       "      <td>-0.163785</td>\n",
       "    </tr>\n",
       "    <tr>\n",
       "      <th>split1_train_score</th>\n",
       "      <td>0.792994</td>\n",
       "      <td>0.79926</td>\n",
       "      <td>0.788215</td>\n",
       "      <td>0.79688</td>\n",
       "      <td>0.801063</td>\n",
       "      <td>0.801483</td>\n",
       "      <td>0.786705</td>\n",
       "      <td>0.72591</td>\n",
       "      <td>1</td>\n",
       "    </tr>\n",
       "    <tr>\n",
       "      <th>split2_test_score</th>\n",
       "      <td>0.713806</td>\n",
       "      <td>0.711334</td>\n",
       "      <td>0.701167</td>\n",
       "      <td>0.695682</td>\n",
       "      <td>0.701096</td>\n",
       "      <td>0.697068</td>\n",
       "      <td>0.671382</td>\n",
       "      <td>0.650181</td>\n",
       "      <td>0.489598</td>\n",
       "    </tr>\n",
       "    <tr>\n",
       "      <th>split2_train_score</th>\n",
       "      <td>0.813651</td>\n",
       "      <td>0.82413</td>\n",
       "      <td>0.801295</td>\n",
       "      <td>0.831288</td>\n",
       "      <td>0.846441</td>\n",
       "      <td>0.862519</td>\n",
       "      <td>0.882325</td>\n",
       "      <td>0.925495</td>\n",
       "      <td>1</td>\n",
       "    </tr>\n",
       "    <tr>\n",
       "      <th>split3_test_score</th>\n",
       "      <td>0.632905</td>\n",
       "      <td>0.637767</td>\n",
       "      <td>0.61748</td>\n",
       "      <td>0.61306</td>\n",
       "      <td>0.598916</td>\n",
       "      <td>0.586862</td>\n",
       "      <td>0.594161</td>\n",
       "      <td>0.476526</td>\n",
       "      <td>-0.0718577</td>\n",
       "    </tr>\n",
       "    <tr>\n",
       "      <th>split3_train_score</th>\n",
       "      <td>0.797124</td>\n",
       "      <td>0.801436</td>\n",
       "      <td>0.791415</td>\n",
       "      <td>0.80357</td>\n",
       "      <td>0.810534</td>\n",
       "      <td>0.811159</td>\n",
       "      <td>0.800893</td>\n",
       "      <td>0.72314</td>\n",
       "      <td>1</td>\n",
       "    </tr>\n",
       "    <tr>\n",
       "      <th>split4_test_score</th>\n",
       "      <td>0.830269</td>\n",
       "      <td>0.821306</td>\n",
       "      <td>0.827827</td>\n",
       "      <td>0.81757</td>\n",
       "      <td>0.800364</td>\n",
       "      <td>0.779245</td>\n",
       "      <td>0.713875</td>\n",
       "      <td>0.556708</td>\n",
       "      <td>-0.260735</td>\n",
       "    </tr>\n",
       "    <tr>\n",
       "      <th>split4_train_score</th>\n",
       "      <td>0.782372</td>\n",
       "      <td>0.786591</td>\n",
       "      <td>0.77986</td>\n",
       "      <td>0.788731</td>\n",
       "      <td>0.795314</td>\n",
       "      <td>0.805255</td>\n",
       "      <td>0.793722</td>\n",
       "      <td>0.727156</td>\n",
       "      <td>1</td>\n",
       "    </tr>\n",
       "    <tr>\n",
       "      <th>std_fit_time</th>\n",
       "      <td>0.00106573</td>\n",
       "      <td>0.00135213</td>\n",
       "      <td>0.00205857</td>\n",
       "      <td>0.00168523</td>\n",
       "      <td>0.00121013</td>\n",
       "      <td>0.00213773</td>\n",
       "      <td>0.00190776</td>\n",
       "      <td>0.00174822</td>\n",
       "      <td>0.00298329</td>\n",
       "    </tr>\n",
       "    <tr>\n",
       "      <th>std_score_time</th>\n",
       "      <td>0.00350534</td>\n",
       "      <td>0.00512221</td>\n",
       "      <td>0.00210578</td>\n",
       "      <td>0.00296892</td>\n",
       "      <td>0.00356853</td>\n",
       "      <td>0.00359832</td>\n",
       "      <td>0.00348893</td>\n",
       "      <td>0.00502687</td>\n",
       "      <td>0.00435764</td>\n",
       "    </tr>\n",
       "    <tr>\n",
       "      <th>std_test_score</th>\n",
       "      <td>0.0657639</td>\n",
       "      <td>0.0611397</td>\n",
       "      <td>0.0681294</td>\n",
       "      <td>0.0654231</td>\n",
       "      <td>0.0637657</td>\n",
       "      <td>0.0611155</td>\n",
       "      <td>0.0439899</td>\n",
       "      <td>0.0624842</td>\n",
       "      <td>0.260841</td>\n",
       "    </tr>\n",
       "    <tr>\n",
       "      <th>std_train_score</th>\n",
       "      <td>0.0110877</td>\n",
       "      <td>0.013321</td>\n",
       "      <td>0.00809102</td>\n",
       "      <td>0.0146285</td>\n",
       "      <td>0.0186686</td>\n",
       "      <td>0.0233822</td>\n",
       "      <td>0.036584</td>\n",
       "      <td>0.0804766</td>\n",
       "      <td>0</td>\n",
       "    </tr>\n",
       "  </tbody>\n",
       "</table>\n",
       "</div>"
      ],
      "text/plain": [
       "                                                7                         6  \\\n",
       "mean_fit_time                           0.0937111                  0.094352   \n",
       "mean_score_time                          0.355213                  0.360437   \n",
       "mean_test_score                          0.713966                    0.7121   \n",
       "mean_train_score                         0.794208                  0.800069   \n",
       "param_regr__n_neighbors                         8                         7   \n",
       "params                   {'regr__n_neighbors': 8}  {'regr__n_neighbors': 7}   \n",
       "rank_test_score                                 1                         2   \n",
       "split0_test_score                        0.717779                  0.713166   \n",
       "split0_train_score                       0.784902                  0.788928   \n",
       "split1_test_score                        0.675072                  0.676926   \n",
       "split1_train_score                       0.792994                   0.79926   \n",
       "split2_test_score                        0.713806                  0.711334   \n",
       "split2_train_score                       0.813651                   0.82413   \n",
       "split3_test_score                        0.632905                  0.637767   \n",
       "split3_train_score                       0.797124                  0.801436   \n",
       "split4_test_score                        0.830269                  0.821306   \n",
       "split4_train_score                       0.782372                  0.786591   \n",
       "std_fit_time                           0.00106573                0.00135213   \n",
       "std_score_time                         0.00350534                0.00512221   \n",
       "std_test_score                          0.0657639                 0.0611397   \n",
       "std_train_score                         0.0110877                  0.013321   \n",
       "\n",
       "                                                8                         5  \\\n",
       "mean_fit_time                            0.092984                 0.0942749   \n",
       "mean_score_time                          0.359182                  0.355823   \n",
       "mean_test_score                           0.71005                  0.705552   \n",
       "mean_train_score                         0.788053                  0.803596   \n",
       "param_regr__n_neighbors                         9                         6   \n",
       "params                   {'regr__n_neighbors': 9}  {'regr__n_neighbors': 6}   \n",
       "rank_test_score                                 3                         4   \n",
       "split0_test_score                        0.718553                  0.709505   \n",
       "split0_train_score                        0.77948                  0.797509   \n",
       "split1_test_score                        0.685223                  0.691943   \n",
       "split1_train_score                       0.788215                   0.79688   \n",
       "split2_test_score                        0.701167                  0.695682   \n",
       "split2_train_score                       0.801295                  0.831288   \n",
       "split3_test_score                         0.61748                   0.61306   \n",
       "split3_train_score                       0.791415                   0.80357   \n",
       "split4_test_score                        0.827827                   0.81757   \n",
       "split4_train_score                        0.77986                  0.788731   \n",
       "std_fit_time                           0.00205857                0.00168523   \n",
       "std_score_time                         0.00210578                0.00296892   \n",
       "std_test_score                          0.0681294                 0.0654231   \n",
       "std_train_score                        0.00809102                 0.0146285   \n",
       "\n",
       "                                                4                         3  \\\n",
       "mean_fit_time                           0.0939511                 0.0930965   \n",
       "mean_score_time                          0.356504                   0.35742   \n",
       "mean_test_score                          0.698119                  0.688774   \n",
       "mean_train_score                          0.81048                  0.816314   \n",
       "param_regr__n_neighbors                         5                         4   \n",
       "params                   {'regr__n_neighbors': 5}  {'regr__n_neighbors': 4}   \n",
       "rank_test_score                                 5                         6   \n",
       "split0_test_score                        0.693093                  0.686425   \n",
       "split0_train_score                       0.799047                  0.801152   \n",
       "split1_test_score                        0.697127                   0.69427   \n",
       "split1_train_score                       0.801063                  0.801483   \n",
       "split2_test_score                        0.701096                  0.697068   \n",
       "split2_train_score                       0.846441                  0.862519   \n",
       "split3_test_score                        0.598916                  0.586862   \n",
       "split3_train_score                       0.810534                  0.811159   \n",
       "split4_test_score                        0.800364                  0.779245   \n",
       "split4_train_score                       0.795314                  0.805255   \n",
       "std_fit_time                           0.00121013                0.00213773   \n",
       "std_score_time                         0.00356853                0.00359832   \n",
       "std_test_score                          0.0637657                 0.0611155   \n",
       "std_train_score                         0.0186686                 0.0233822   \n",
       "\n",
       "                                                2                         1  \\\n",
       "mean_fit_time                           0.0938268                 0.0931142   \n",
       "mean_score_time                          0.358679                  0.357589   \n",
       "mean_test_score                          0.677347                  0.584132   \n",
       "mean_train_score                         0.809952                  0.764595   \n",
       "param_regr__n_neighbors                         3                         2   \n",
       "params                   {'regr__n_neighbors': 3}  {'regr__n_neighbors': 2}   \n",
       "rank_test_score                                 7                         8   \n",
       "split0_test_score                        0.704395                  0.603642   \n",
       "split0_train_score                       0.786115                  0.721273   \n",
       "split1_test_score                        0.702924                  0.633602   \n",
       "split1_train_score                       0.786705                   0.72591   \n",
       "split2_test_score                        0.671382                  0.650181   \n",
       "split2_train_score                       0.882325                  0.925495   \n",
       "split3_test_score                        0.594161                  0.476526   \n",
       "split3_train_score                       0.800893                   0.72314   \n",
       "split4_test_score                        0.713875                  0.556708   \n",
       "split4_train_score                       0.793722                  0.727156   \n",
       "std_fit_time                           0.00190776                0.00174822   \n",
       "std_score_time                         0.00348893                0.00502687   \n",
       "std_test_score                          0.0439899                 0.0624842   \n",
       "std_train_score                          0.036584                 0.0804766   \n",
       "\n",
       "                                                0  \n",
       "mean_fit_time                           0.0945375  \n",
       "mean_score_time                          0.357767  \n",
       "mean_test_score                       -0.00680695  \n",
       "mean_train_score                                1  \n",
       "param_regr__n_neighbors                         1  \n",
       "params                   {'regr__n_neighbors': 1}  \n",
       "rank_test_score                                 9  \n",
       "split0_test_score                      -0.0272556  \n",
       "split0_train_score                              1  \n",
       "split1_test_score                       -0.163785  \n",
       "split1_train_score                              1  \n",
       "split2_test_score                        0.489598  \n",
       "split2_train_score                              1  \n",
       "split3_test_score                      -0.0718577  \n",
       "split3_train_score                              1  \n",
       "split4_test_score                       -0.260735  \n",
       "split4_train_score                              1  \n",
       "std_fit_time                           0.00298329  \n",
       "std_score_time                         0.00435764  \n",
       "std_test_score                           0.260841  \n",
       "std_train_score                                 0  "
      ]
     },
     "execution_count": 165,
     "metadata": {},
     "output_type": "execute_result"
    }
   ],
   "source": [
    "gspipe_KNN_results = pd.DataFrame(gspipe_KNN.cv_results_)\n",
    "\n",
    "gspipe_KNN_results.sort_values('rank_test_score', ascending=True).T"
   ]
  },
  {
   "cell_type": "code",
   "execution_count": 166,
   "metadata": {},
   "outputs": [
    {
     "data": {
      "text/plain": [
       "Pipeline(memory=None,\n",
       "     steps=[('scaler', StandardScaler(copy=True, with_mean=True, with_std=True)), ('regr', KNeighborsRegressor(algorithm='auto', leaf_size=30, metric='minkowski',\n",
       "          metric_params=None, n_jobs=1, n_neighbors=8, p=2,\n",
       "          weights='uniform'))])"
      ]
     },
     "execution_count": 166,
     "metadata": {},
     "output_type": "execute_result"
    }
   ],
   "source": [
    "gspipe_KNN.best_estimator_\n"
   ]
  },
  {
   "cell_type": "code",
   "execution_count": 167,
   "metadata": {},
   "outputs": [
    {
     "data": {
      "text/plain": [
       "0.71396604101981698"
      ]
     },
     "execution_count": 167,
     "metadata": {},
     "output_type": "execute_result"
    }
   ],
   "source": [
    "gspipe_KNN.best_score_"
   ]
  },
  {
   "cell_type": "code",
   "execution_count": 168,
   "metadata": {},
   "outputs": [
    {
     "data": {
      "text/plain": [
       "array([[ 134400.   ],\n",
       "       [ 161100.   ],\n",
       "       [ 190512.5  ],\n",
       "       ..., \n",
       "       [ 152281.25 ],\n",
       "       [ 148075.   ],\n",
       "       [ 204840.625]])"
      ]
     },
     "execution_count": 168,
     "metadata": {},
     "output_type": "execute_result"
    }
   ],
   "source": [
    "predict_gspipe_KNN = gspipe_KNN.predict(features_dummies_test)\n",
    "predict_gspipe_KNN"
   ]
  },
  {
   "cell_type": "markdown",
   "metadata": {},
   "source": [
    "# Ridge Complexity Curve"
   ]
  },
  {
   "cell_type": "code",
   "execution_count": 176,
   "metadata": {},
   "outputs": [
    {
     "data": {
      "text/plain": [
       "<matplotlib.legend.Legend at 0x7fce79576f60>"
      ]
     },
     "execution_count": 176,
     "metadata": {},
     "output_type": "execute_result"
    },
    {
     "data": {
      "image/png": "[encoded data removed]",
      "text/plain": [
       "<Figure size 720x360 with 1 Axes>"
      ]
     },
     "metadata": {},
     "output_type": "display_data"
    }
   ],
   "source": [
    "ridge_df = pd.DataFrame(gspipe_ridge_results)\n",
    "plt.figure(figsize=(10,5)) \n",
    "plt.xticks(rotation='vertical')\n",
    "plt.plot(range(len(ridge_df)), ridge_df.mean_test_score, label='test R2')\n",
    "plt.plot(range(len(ridge_df)), ridge_df.mean_train_score, label='train R2')\n",
    "plt.legend()"
   ]
  },
  {
   "cell_type": "markdown",
   "metadata": {},
   "source": [
    "# Lasso Complexity Curve"
   ]
  },
  {
   "cell_type": "code",
   "execution_count": 175,
   "metadata": {},
   "outputs": [
    {
     "data": {
      "text/plain": [
       "<matplotlib.legend.Legend at 0x7fce7960e7f0>"
      ]
     },
     "execution_count": 175,
     "metadata": {},
     "output_type": "execute_result"
    },
    {
     "data": {
      "image/png": "[encoded data removed]",
      "text/plain": [
       "<Figure size 720x360 with 1 Axes>"
      ]
     },
     "metadata": {},
     "output_type": "display_data"
    }
   ],
   "source": [
    "lasso_df = pd.DataFrame(gspipe_lasso_results)\n",
    "plt.figure(figsize=(10,5)) \n",
    "plt.xticks(rotation='vertical')\n",
    "plt.plot(range(len(lasso_df)), lasso_df.mean_test_score, label='test R2')\n",
    "plt.plot(range(len(lasso_df)), lasso_df.mean_train_score, label='train R2')\n",
    "plt.legend()"
   ]
  },
  {
   "cell_type": "markdown",
   "metadata": {},
   "source": [
    "# KNN Complexity Curve"
   ]
  },
  {
   "cell_type": "code",
   "execution_count": 174,
   "metadata": {},
   "outputs": [
    {
     "data": {
      "text/plain": [
       "<matplotlib.legend.Legend at 0x7fce796a25c0>"
      ]
     },
     "execution_count": 174,
     "metadata": {},
     "output_type": "execute_result"
    },
    {
     "data": {
      "image/png": "[encoded data removed]",
      "text/plain": [
       "<Figure size 720x360 with 1 Axes>"
      ]
     },
     "metadata": {},
     "output_type": "display_data"
    }
   ],
   "source": [
    "KNN_df = pd.DataFrame(gspipe_KNN_results)\n",
    "plt.figure(figsize=(10,5)) \n",
    "plt.xticks(rotation='vertical')\n",
    "plt.plot(range(len(KNN_df)), KNN_df.mean_test_score, label='test R2')\n",
    "plt.plot(range(len(KNN_df)), KNN_df.mean_train_score, label='train R2')\n",
    "plt.legend()"
   ]
  },
  {
   "cell_type": "code",
   "execution_count": null,
   "metadata": {},
   "outputs": [],
   "source": []
  }
 ],
 "metadata": {
  "kernelspec": {
   "display_name": "Python 3",
   "language": "python",
   "name": "python3"
  },
  "language_info": {
   "codemirror_mode": {
    "name": "ipython",
    "version": 3
   },
   "file_extension": ".py",
   "mimetype": "text/x-python",
   "name": "python",
   "nbconvert_exporter": "python",
   "pygments_lexer": "ipython3",
   "version": "3.6.4"
  }
 },
 "nbformat": 4,
 "nbformat_minor": 2
}
